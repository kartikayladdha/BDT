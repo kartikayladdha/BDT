{
  "nbformat": 4,
  "nbformat_minor": 0,
  "metadata": {
    "colab": {
      "name": "BigData_Lab 5_PySpark - Movie recommendation.ipynb",
      "provenance": [],
      "toc_visible": true,
      "include_colab_link": true
    },
    "kernelspec": {
      "name": "python3",
      "display_name": "Python 3"
    },
    "language_info": {
      "name": "python"
    },
    "accelerator": "GPU"
  },
  "cells": [
    {
      "cell_type": "markdown",
      "metadata": {
        "id": "view-in-github",
        "colab_type": "text"
      },
      "source": [
        "<a href=\"https://colab.research.google.com/github/kartikayladdha/BDT/blob/main/Lab%205/%20BigData_Lab_5_PySpark_Movie_recommendation.ipynb\" target=\"_parent\"><img src=\"https://colab.research.google.com/assets/colab-badge.svg\" alt=\"Open In Colab\"/></a>"
      ]
    },
    {
      "cell_type": "markdown",
      "metadata": {
        "id": "ezee8tGKOyau"
      },
      "source": [
        "#**Vidhi Kapoor - J021**\n",
        "#**Kartikay Laddha - J025**"
      ]
    },
    {
      "cell_type": "markdown",
      "metadata": {
        "id": "eUkKzn-yM6nl"
      },
      "source": [
        "##  PySpark setup"
      ]
    },
    {
      "cell_type": "code",
      "metadata": {
        "id": "caYh86ewKs6F"
      },
      "source": [
        "!apt-get install openjdk-8-jdk-headless -qq > /dev/nul\n",
        "!wget -q https://mirrors.estointernet.in/apache/spark/spark-3.1.1/spark-3.1.1-bin-hadoop2.7.tgz\n",
        "!tar xf spark-3.1.1-bin-hadoop2.7.tgz\n",
        "!pip install -q findspark\n"
      ],
      "execution_count": 1,
      "outputs": []
    },
    {
      "cell_type": "code",
      "metadata": {
        "colab": {
          "base_uri": "https://localhost:8080/",
          "height": 35
        },
        "id": "9dAAv3IQKaAL",
        "outputId": "72ed4b9b-8b6d-4a3a-dba5-b8ac86fbf3e8"
      },
      "source": [
        "import os\n",
        "os.environ[\"JAVA_HOME\"] = \"/usr/lib/jvm/java-8-openjdk-amd64\"\n",
        "os.environ[\"SPARK_HOME\"] = \"/content/spark-3.1.1-bin-hadoop2.7\"\n",
        "import findspark\n",
        "findspark.init()\n",
        "findspark.find()"
      ],
      "execution_count": 2,
      "outputs": [
        {
          "output_type": "execute_result",
          "data": {
            "application/vnd.google.colaboratory.intrinsic+json": {
              "type": "string"
            },
            "text/plain": [
              "'/content/spark-3.1.1-bin-hadoop2.7'"
            ]
          },
          "metadata": {
            "tags": []
          },
          "execution_count": 2
        }
      ]
    },
    {
      "cell_type": "markdown",
      "metadata": {
        "id": "xepHpYGqNBej"
      },
      "source": [
        "## Download movie lens data:  \n",
        "https://www.kaggle.com/grouplens/movielens-20m-dataset?select=movie.csv"
      ]
    },
    {
      "cell_type": "code",
      "metadata": {
        "id": "UsVbEztyM3kP"
      },
      "source": [
        "! pip install -q kaggle"
      ],
      "execution_count": 3,
      "outputs": []
    },
    {
      "cell_type": "code",
      "metadata": {
        "colab": {
          "resources": {
            "http://localhost:8080/nbextensions/google.colab/files.js": {
              "data": "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",
              "ok": true,
              "headers": [
                [
                  "content-type",
                  "application/javascript"
                ]
              ],
              "status": 200,
              "status_text": ""
            }
          },
          "base_uri": "https://localhost:8080/",
          "height": 89
        },
        "id": "DO8HpAmBNegk",
        "outputId": "1fdb0286-07d8-424c-a217-3d08c405affd"
      },
      "source": [
        "from google.colab import files\n",
        "files.upload()"
      ],
      "execution_count": 4,
      "outputs": [
        {
          "output_type": "display_data",
          "data": {
            "text/html": [
              "\n",
              "     <input type=\"file\" id=\"files-279264d2-4ed1-431c-8560-2df12523dca2\" name=\"files[]\" multiple disabled\n",
              "        style=\"border:none\" />\n",
              "     <output id=\"result-279264d2-4ed1-431c-8560-2df12523dca2\">\n",
              "      Upload widget is only available when the cell has been executed in the\n",
              "      current browser session. Please rerun this cell to enable.\n",
              "      </output>\n",
              "      <script src=\"/nbextensions/google.colab/files.js\"></script> "
            ],
            "text/plain": [
              "<IPython.core.display.HTML object>"
            ]
          },
          "metadata": {
            "tags": []
          }
        },
        {
          "output_type": "stream",
          "text": [
            "Saving kaggle.json to kaggle (1).json\n"
          ],
          "name": "stdout"
        },
        {
          "output_type": "execute_result",
          "data": {
            "text/plain": [
              "{'kaggle.json': b'{\"username\":\"vidhikapoor\",\"key\":\"92b7db479a796a8dd0c55549d3f749ef\"}'}"
            ]
          },
          "metadata": {
            "tags": []
          },
          "execution_count": 4
        }
      ]
    },
    {
      "cell_type": "code",
      "metadata": {
        "colab": {
          "base_uri": "https://localhost:8080/"
        },
        "id": "U4uJPduqNqXk",
        "outputId": "e82d20ba-9195-489f-dcf0-97cb569d0c3b"
      },
      "source": [
        "! mkdir ~/.kaggle\n",
        "! cp kaggle.json ~/.kaggle/\n",
        "! chmod 600 ~/.kaggle/kaggle.json\n",
        "! kaggle datasets list"
      ],
      "execution_count": 5,
      "outputs": [
        {
          "output_type": "stream",
          "text": [
            "mkdir: cannot create directory ‘/root/.kaggle’: File exists\n",
            "Warning: Looks like you're using an outdated API Version, please consider updating (server 1.5.12 / client 1.5.4)\n",
            "ref                                                         title                                              size  lastUpdated          downloadCount  \n",
            "----------------------------------------------------------  ------------------------------------------------  -----  -------------------  -------------  \n",
            "gpreda/reddit-vaccine-myths                                 Reddit Vaccine Myths                              222KB  2021-04-05 06:19:09           2067  \n",
            "crowww/a-large-scale-fish-dataset                           A Large Scale Fish Dataset                          3GB  2021-02-17 16:10:44           1221  \n",
            "dhruvildave/wikibooks-dataset                               Wikibooks Dataset                                   1GB  2021-02-18 10:08:27            946  \n",
            "imsparsh/musicnet-dataset                                   MusicNet Dataset                                   22GB  2021-02-18 14:12:19            444  \n",
            "promptcloud/careerbuilder-job-listing-2020                  Careerbuilder Job Listing 2020                     42MB  2021-03-05 06:59:52            183  \n",
            "alsgroup/end-als                                            End ALS Kaggle Challenge                           12GB  2021-03-16 22:31:35            340  \n",
            "mathurinache/twitter-edge-nodes                             Twitter Edge Nodes                                342MB  2021-03-08 06:43:04            106  \n",
            "simiotic/github-code-snippets                               GitHub Code Snippets                                7GB  2021-03-03 11:34:39             42  \n",
            "fatiimaezzahra/famous-iconic-women                          Famous Iconic Women                               838MB  2021-02-28 14:56:00            317  \n",
            "mathurinache/the-lj-speech-dataset                          The LJ Speech Dataset                               3GB  2021-02-15 09:19:54             79  \n",
            "nickuzmenkov/nih-chest-xrays-tfrecords                      NIH Chest X-rays TFRecords                         11GB  2021-03-09 04:49:23            195  \n",
            "nickuzmenkov/ranzcr-clip-kfold-tfrecords                    RANZCR CLiP KFold TFRecords                         2GB  2021-02-21 13:29:51             47  \n",
            "coloradokb/dandelionimages                                  DandelionImages                                     4GB  2021-02-19 20:03:47            132  \n",
            "stuartjames/lights                                          LightS: Light Specularity Dataset                  18GB  2021-02-18 14:32:26             27  \n",
            "landrykezebou/lvzhdr-tone-mapping-benchmark-dataset-tmonet  LVZ-HDR Tone Mapping Benchmark Dataset (TMO-Net)   24GB  2021-03-01 05:03:40             39  \n",
            "imsparsh/accentdb-core-extended                             AccentDB - Core & Extended                          6GB  2021-02-17 14:22:54             33  \n",
            "shivamb/netflix-shows                                       Netflix Movies and TV Shows                         1MB  2021-01-18 16:20:26         129448  \n",
            "jsphyg/weather-dataset-rattle-package                       Rain in Australia                                   4MB  2020-12-11 10:26:12          43613  \n",
            "arashnic/hr-analytics-job-change-of-data-scientists         HR Analytics: Job Change of Data Scientists       295KB  2020-12-07 00:25:10          19000  \n",
            "datasnaek/youtube-new                                       Trending YouTube Video Statistics                 201MB  2019-06-03 00:56:47         133799  \n"
          ],
          "name": "stdout"
        }
      ]
    },
    {
      "cell_type": "code",
      "metadata": {
        "colab": {
          "base_uri": "https://localhost:8080/"
        },
        "id": "oCe5nOvYN-GT",
        "outputId": "481c180e-7f51-49e7-8122-8f29e1c1e808"
      },
      "source": [
        "!kaggle datasets download -d grouplens/movielens-20m-dataset"
      ],
      "execution_count": 6,
      "outputs": [
        {
          "output_type": "stream",
          "text": [
            "movielens-20m-dataset.zip: Skipping, found more recently modified local copy (use --force to force download)\n"
          ],
          "name": "stdout"
        }
      ]
    },
    {
      "cell_type": "code",
      "metadata": {
        "colab": {
          "base_uri": "https://localhost:8080/"
        },
        "id": "cL3-VzNlOZXC",
        "outputId": "56a40691-8088-4787-88da-e50e3765247e"
      },
      "source": [
        "!unzip /content/movielens-20m-dataset.zip"
      ],
      "execution_count": 7,
      "outputs": [
        {
          "output_type": "stream",
          "text": [
            "Archive:  /content/movielens-20m-dataset.zip\n",
            "replace genome_scores.csv? [y]es, [n]o, [A]ll, [N]one, [r]ename: y\n",
            "  inflating: genome_scores.csv       \n",
            "replace genome_tags.csv? [y]es, [n]o, [A]ll, [N]one, [r]ename: y\n",
            "  inflating: genome_tags.csv         \n",
            "replace link.csv? [y]es, [n]o, [A]ll, [N]one, [r]ename: y\n",
            "  inflating: link.csv                \n",
            "replace movie.csv? [y]es, [n]o, [A]ll, [N]one, [r]ename: y\n",
            "  inflating: movie.csv               \n",
            "replace rating.csv? [y]es, [n]o, [A]ll, [N]one, [r]ename: y\n",
            "  inflating: rating.csv              y\n",
            "\n",
            "replace tag.csv? [y]es, [n]o, [A]ll, [N]one, [r]ename:   inflating: tag.csv                 \n"
          ],
          "name": "stdout"
        }
      ]
    },
    {
      "cell_type": "markdown",
      "metadata": {
        "id": "gvcmCf_SOycr"
      },
      "source": [
        "# Movie Recommendation using PySpark"
      ]
    },
    {
      "cell_type": "code",
      "metadata": {
        "id": "moY9zIJqPl-E"
      },
      "source": [
        "import os\n",
        "import sys\n",
        "os.environ['PYSPARK_PYTHON'] = sys.executable\n",
        "os.environ['PYSPARK_DRIVER_PYTHON'] = sys.executable"
      ],
      "execution_count": 8,
      "outputs": []
    },
    {
      "cell_type": "code",
      "metadata": {
        "id": "baKJ3dqXSFHd"
      },
      "source": [
        "from pyspark.sql.functions import col"
      ],
      "execution_count": 9,
      "outputs": []
    },
    {
      "cell_type": "code",
      "metadata": {
        "id": "oQnjhrJVE-Fh"
      },
      "source": [
        "from pyspark.sql.functions import lit"
      ],
      "execution_count": 10,
      "outputs": []
    },
    {
      "cell_type": "code",
      "metadata": {
        "id": "SRNw2VhUOxpS"
      },
      "source": [
        "def get_mat_sparsity(ratings):\n",
        "    # Count the total number of ratings in the dataset\n",
        "    count_nonzero = ratings.select(\"rating\").count()\n",
        "\n",
        "    # Count the number of distinct userIds and distinct movieIds\n",
        "    total_elements = ratings.select(\"userId\").distinct().count() * ratings.select(\"movieId\").distinct().count()\n",
        "\n",
        "    # Divide the numerator by the denominator\n",
        "    sparsity = (1.0 - (count_nonzero *1.0)/total_elements)*100\n",
        "    print(\"The ratings dataframe is \", \"%.2f\" % sparsity + \"% sparse.\")"
      ],
      "execution_count": 11,
      "outputs": []
    },
    {
      "cell_type": "code",
      "metadata": {
        "colab": {
          "base_uri": "https://localhost:8080/"
        },
        "id": "dYqIvUMPOrar",
        "outputId": "cb5253f7-b41d-4ad9-ccb9-c99ae9c94d50"
      },
      "source": [
        "from pyspark.sql import SparkSession\n",
        "spark = SparkSession.builder.appName('Recommendations').getOrCreate()\n",
        "movies = spark.read.csv(\"movie.csv\",header=True)\n",
        "ratings = spark.read.csv(\"rating.csv\",header=True)\n",
        "ratings.show()"
      ],
      "execution_count": 12,
      "outputs": [
        {
          "output_type": "stream",
          "text": [
            "+------+-------+------+-------------------+\n",
            "|userId|movieId|rating|          timestamp|\n",
            "+------+-------+------+-------------------+\n",
            "|     1|      2|   3.5|2005-04-02 23:53:47|\n",
            "|     1|     29|   3.5|2005-04-02 23:31:16|\n",
            "|     1|     32|   3.5|2005-04-02 23:33:39|\n",
            "|     1|     47|   3.5|2005-04-02 23:32:07|\n",
            "|     1|     50|   3.5|2005-04-02 23:29:40|\n",
            "|     1|    112|   3.5|2004-09-10 03:09:00|\n",
            "|     1|    151|     4|2004-09-10 03:08:54|\n",
            "|     1|    223|     4|2005-04-02 23:46:13|\n",
            "|     1|    253|     4|2005-04-02 23:35:40|\n",
            "|     1|    260|     4|2005-04-02 23:33:46|\n",
            "|     1|    293|     4|2005-04-02 23:31:43|\n",
            "|     1|    296|     4|2005-04-02 23:32:47|\n",
            "|     1|    318|     4|2005-04-02 23:33:18|\n",
            "|     1|    337|   3.5|2004-09-10 03:08:29|\n",
            "|     1|    367|   3.5|2005-04-02 23:53:00|\n",
            "|     1|    541|     4|2005-04-02 23:30:03|\n",
            "|     1|    589|   3.5|2005-04-02 23:45:57|\n",
            "|     1|    593|   3.5|2005-04-02 23:31:01|\n",
            "|     1|    653|     3|2004-09-10 03:08:11|\n",
            "|     1|    919|   3.5|2004-09-10 03:07:01|\n",
            "+------+-------+------+-------------------+\n",
            "only showing top 20 rows\n",
            "\n"
          ],
          "name": "stdout"
        }
      ]
    },
    {
      "cell_type": "code",
      "metadata": {
        "colab": {
          "base_uri": "https://localhost:8080/"
        },
        "id": "0A1XgcshPA70",
        "outputId": "28ca82be-5677-4c43-faca-c089e5e81220"
      },
      "source": [
        "movies.show()"
      ],
      "execution_count": 13,
      "outputs": [
        {
          "output_type": "stream",
          "text": [
            "+-------+--------------------+--------------------+\n",
            "|movieId|               title|              genres|\n",
            "+-------+--------------------+--------------------+\n",
            "|      1|    Toy Story (1995)|Adventure|Animati...|\n",
            "|      2|      Jumanji (1995)|Adventure|Childre...|\n",
            "|      3|Grumpier Old Men ...|      Comedy|Romance|\n",
            "|      4|Waiting to Exhale...|Comedy|Drama|Romance|\n",
            "|      5|Father of the Bri...|              Comedy|\n",
            "|      6|         Heat (1995)|Action|Crime|Thri...|\n",
            "|      7|      Sabrina (1995)|      Comedy|Romance|\n",
            "|      8| Tom and Huck (1995)|  Adventure|Children|\n",
            "|      9| Sudden Death (1995)|              Action|\n",
            "|     10|    GoldenEye (1995)|Action|Adventure|...|\n",
            "|     11|American Presiden...|Comedy|Drama|Romance|\n",
            "|     12|Dracula: Dead and...|       Comedy|Horror|\n",
            "|     13|        Balto (1995)|Adventure|Animati...|\n",
            "|     14|        Nixon (1995)|               Drama|\n",
            "|     15|Cutthroat Island ...|Action|Adventure|...|\n",
            "|     16|       Casino (1995)|         Crime|Drama|\n",
            "|     17|Sense and Sensibi...|       Drama|Romance|\n",
            "|     18|   Four Rooms (1995)|              Comedy|\n",
            "|     19|Ace Ventura: When...|              Comedy|\n",
            "|     20|  Money Train (1995)|Action|Comedy|Cri...|\n",
            "+-------+--------------------+--------------------+\n",
            "only showing top 20 rows\n",
            "\n"
          ],
          "name": "stdout"
        }
      ]
    },
    {
      "cell_type": "code",
      "metadata": {
        "colab": {
          "base_uri": "https://localhost:8080/"
        },
        "id": "veivI1W-RLk0",
        "outputId": "242ace32-3d16-449d-9261-f3dd4933f92c"
      },
      "source": [
        "ratings = ratings.\\\n",
        "          withColumn('userId', col('userId').cast('integer')).\\\n",
        "          withColumn('movieId', col('MovieId').cast('integer')).\\\n",
        "          withColumn('rating', col('rating').cast('float')).\\\n",
        "          drop('timestamp')\n",
        "\n",
        "ratings.show()"
      ],
      "execution_count": 14,
      "outputs": [
        {
          "output_type": "stream",
          "text": [
            "+------+-------+------+\n",
            "|userId|movieId|rating|\n",
            "+------+-------+------+\n",
            "|     1|      2|   3.5|\n",
            "|     1|     29|   3.5|\n",
            "|     1|     32|   3.5|\n",
            "|     1|     47|   3.5|\n",
            "|     1|     50|   3.5|\n",
            "|     1|    112|   3.5|\n",
            "|     1|    151|   4.0|\n",
            "|     1|    223|   4.0|\n",
            "|     1|    253|   4.0|\n",
            "|     1|    260|   4.0|\n",
            "|     1|    293|   4.0|\n",
            "|     1|    296|   4.0|\n",
            "|     1|    318|   4.0|\n",
            "|     1|    337|   3.5|\n",
            "|     1|    367|   3.5|\n",
            "|     1|    541|   4.0|\n",
            "|     1|    589|   3.5|\n",
            "|     1|    593|   3.5|\n",
            "|     1|    653|   3.0|\n",
            "|     1|    919|   3.5|\n",
            "+------+-------+------+\n",
            "only showing top 20 rows\n",
            "\n"
          ],
          "name": "stdout"
        }
      ]
    },
    {
      "cell_type": "code",
      "metadata": {
        "id": "kByKu8U9P3tE"
      },
      "source": [
        "movie_ratings = ratings.join(movies, ['movieId'], 'left')"
      ],
      "execution_count": 15,
      "outputs": []
    },
    {
      "cell_type": "code",
      "metadata": {
        "colab": {
          "base_uri": "https://localhost:8080/"
        },
        "id": "i_7WLRKGAMFt",
        "outputId": "ec48dce0-acdd-43da-8e42-60a4183949ba"
      },
      "source": [
        "get_mat_sparsity(ratings)"
      ],
      "execution_count": 16,
      "outputs": [
        {
          "output_type": "stream",
          "text": [
            "The ratings dataframe is  99.46% sparse.\n"
          ],
          "name": "stdout"
        }
      ]
    },
    {
      "cell_type": "code",
      "metadata": {
        "id": "Mn5H78i3ActC"
      },
      "source": [
        "(train, test) = ratings.randomSplit([0.8, 0.2], seed = 1234)"
      ],
      "execution_count": 17,
      "outputs": []
    },
    {
      "cell_type": "code",
      "metadata": {
        "id": "hxh3t9DZA2j2"
      },
      "source": [
        "# def get_binary_data(ratings):\n",
        "#   ratings = ratings.withColumn('binary', lit(1))\n",
        "#   userIds = ratings.select('userId').distinct()\n",
        "#   movieIds = ratings.select('movieId').distinct()\n",
        "\n",
        "#   user_movie = userIds.crossJoin(movieIds).join(ratings, ['userId', 'movieId'], \"left\")\n",
        "#   user_movie = user_movie.select(['userId', 'movieid', 'binary']).fillna(0)\n",
        "#   return user_movie\n",
        "\n",
        "# user_movie = get_binary_data(ratings)\n",
        "# user_movie"
      ],
      "execution_count": null,
      "outputs": []
    },
    {
      "cell_type": "code",
      "metadata": {
        "id": "8LVmvWQyGmZv"
      },
      "source": [
        "from pyspark.ml.evaluation import RegressionEvaluator\n",
        "from pyspark.ml.recommendation import ALS\n",
        "from pyspark.ml.tuning import ParamGridBuilder, CrossValidator"
      ],
      "execution_count": 18,
      "outputs": []
    },
    {
      "cell_type": "code",
      "metadata": {
        "id": "GS4W3M67M0Ka"
      },
      "source": [
        "als = ALS(\n",
        "            userCol = 'userId',\n",
        "          itemCol = 'movieId',\n",
        "          ratingCol = 'rating',\n",
        "          nonnegative = True,\n",
        "          implicitPrefs = False,\n",
        "          coldStartStrategy = 'drop'\n",
        "\n",
        ")"
      ],
      "execution_count": 19,
      "outputs": []
    },
    {
      "cell_type": "code",
      "metadata": {
        "colab": {
          "base_uri": "https://localhost:8080/"
        },
        "id": "8p8OMyxfNQ9S",
        "outputId": "f1e51ae0-8339-47de-d1d5-3c7eec53045a"
      },
      "source": [
        "type(als)"
      ],
      "execution_count": 20,
      "outputs": [
        {
          "output_type": "execute_result",
          "data": {
            "text/plain": [
              "pyspark.ml.recommendation.ALS"
            ]
          },
          "metadata": {
            "tags": []
          },
          "execution_count": 20
        }
      ]
    },
    {
      "cell_type": "code",
      "metadata": {
        "colab": {
          "base_uri": "https://localhost:8080/"
        },
        "id": "NWNW_bHtNn1N",
        "outputId": "9dbad17d-b41e-4497-f66a-e3f1734bee39"
      },
      "source": [
        "param_grid = ParamGridBuilder()\\\n",
        "              .addGrid(als.rank,[50])\\\n",
        "              .addGrid(als.regParam,[.15])\\\n",
        "              .build()\n",
        "\n",
        "\n",
        "\n",
        "evaluator = RegressionEvaluator(metricName='rmse', labelCol='rating', predictionCol= 'prediction')\n",
        "\n",
        "print(f'Total models = {len(param_grid)}')"
      ],
      "execution_count": 21,
      "outputs": [
        {
          "output_type": "stream",
          "text": [
            "Total models = 1\n"
          ],
          "name": "stdout"
        }
      ]
    },
    {
      "cell_type": "code",
      "metadata": {
        "id": "SwNDukEJOX0h"
      },
      "source": [
        "cv = CrossValidator(estimator=als,\n",
        "                    estimatorParamMaps=param_grid,\n",
        "                    evaluator = evaluator,\n",
        "                    numFolds=5)"
      ],
      "execution_count": 22,
      "outputs": []
    },
    {
      "cell_type": "code",
      "metadata": {
        "colab": {
          "base_uri": "https://localhost:8080/"
        },
        "id": "reFzGaSKRCE7",
        "outputId": "862b69a7-eb17-4fcc-bbaf-b446b22c38fe"
      },
      "source": [
        "train.dtypes"
      ],
      "execution_count": 23,
      "outputs": [
        {
          "output_type": "execute_result",
          "data": {
            "text/plain": [
              "[('userId', 'int'), ('movieId', 'int'), ('rating', 'float')]"
            ]
          },
          "metadata": {
            "tags": []
          },
          "execution_count": 23
        }
      ]
    },
    {
      "cell_type": "code",
      "metadata": {
        "id": "7TyRrIo-Qv7g"
      },
      "source": [
        "model = cv.fit(train)\n",
        "best_model = model.bestModel"
      ],
      "execution_count": 24,
      "outputs": []
    },
    {
      "cell_type": "code",
      "metadata": {
        "id": "oY03VT_bSgh-",
        "colab": {
          "base_uri": "https://localhost:8080/"
        },
        "outputId": "ff6ce49e-824a-4f76-aa1d-a14c5d967dc5"
      },
      "source": [
        "# Print best_model\n",
        "print(type(best_model))\n",
        "\n",
        "# Complete the code below to extract the ALS model parameters\n",
        "print(\"**Best Model**\")\n",
        "\n",
        "print(\"  Rank:\", best_model._java_obj.parent().getRank())\n",
        "\n",
        "print(\"  MaxIter:\", best_model._java_obj.parent().getMaxIter())\n",
        "print(\"  RegParam:\", best_model._java_obj.parent().getRegParam())"
      ],
      "execution_count": 25,
      "outputs": [
        {
          "output_type": "stream",
          "text": [
            "<class 'pyspark.ml.recommendation.ALSModel'>\n",
            "**Best Model**\n",
            "  Rank: 50\n",
            "  MaxIter: 10\n",
            "  RegParam: 0.15\n"
          ],
          "name": "stdout"
        }
      ]
    },
    {
      "cell_type": "code",
      "metadata": {
        "id": "b8Hz4DS5UMML",
        "colab": {
          "base_uri": "https://localhost:8080/"
        },
        "outputId": "f3d0ed33-6b01-4031-a90e-92eaaa8d3f28"
      },
      "source": [
        "test_predictions = best_model.transform(test)\n",
        "RMSE = evaluator.evaluate(test_predictions)\n",
        "print(RMSE)"
      ],
      "execution_count": 26,
      "outputs": [
        {
          "output_type": "stream",
          "text": [
            "0.8414607822843814\n"
          ],
          "name": "stdout"
        }
      ]
    },
    {
      "cell_type": "code",
      "metadata": {
        "id": "2Ak6Uv9qURda",
        "colab": {
          "base_uri": "https://localhost:8080/"
        },
        "outputId": "ec91d06d-cf9c-4576-fd1f-ebd3b344ca80"
      },
      "source": [
        "test_predictions.show()"
      ],
      "execution_count": 27,
      "outputs": [
        {
          "output_type": "stream",
          "text": [
            "+------+-------+------+----------+\n",
            "|userId|movieId|rating|prediction|\n",
            "+------+-------+------+----------+\n",
            "|136222|    148|   2.0| 2.4865942|\n",
            "|137949|    148|   4.0| 3.0610926|\n",
            "| 88527|    148|   2.0| 2.4003563|\n",
            "| 96427|    148|   3.0| 2.9490657|\n",
            "| 36821|    148|   4.0| 2.9261234|\n",
            "| 32882|    148|   3.0|  2.803288|\n",
            "| 46146|    148|   2.0| 1.9056679|\n",
            "| 54726|    148|   5.0| 3.2069943|\n",
            "|  3990|    148|   4.0|  2.396212|\n",
            "| 80693|    148|   1.0|  2.821439|\n",
            "| 64843|    148|   3.5| 2.7011235|\n",
            "| 81300|    148|   1.0| 2.8317454|\n",
            "| 48644|    148|   3.0|  2.974217|\n",
            "| 62028|    148|   3.0|  2.751502|\n",
            "|128653|    148|   2.0| 2.4537754|\n",
            "|  9084|    148|   2.0| 2.9348912|\n",
            "| 70446|    148|   2.0| 2.9708045|\n",
            "| 75359|    148|   3.0| 3.0554786|\n",
            "|110991|    148|   2.5| 2.7469063|\n",
            "| 10434|    148|   3.0| 2.5916421|\n",
            "+------+-------+------+----------+\n",
            "only showing top 20 rows\n",
            "\n"
          ],
          "name": "stdout"
        }
      ]
    },
    {
      "cell_type": "code",
      "metadata": {
        "id": "jvGYod6DKJ-z"
      },
      "source": [
        "from pyspark.sql.functions import explode"
      ],
      "execution_count": 28,
      "outputs": []
    },
    {
      "cell_type": "code",
      "metadata": {
        "id": "U71yWDhuU1Tp",
        "colab": {
          "base_uri": "https://localhost:8080/"
        },
        "outputId": "0617357a-ff5b-482b-f0b0-c74966716bcd"
      },
      "source": [
        "recommendations = best_model.recommendForAllUsers(5)\n",
        "recommendations.show()"
      ],
      "execution_count": 29,
      "outputs": [
        {
          "output_type": "stream",
          "text": [
            "+------+--------------------+\n",
            "|userId|     recommendations|\n",
            "+------+--------------------+\n",
            "|   148|[{126219, 8.53115...|\n",
            "|   463|[{126219, 8.27961...|\n",
            "|   471|[{126219, 7.53670...|\n",
            "|   496|[{124273, 8.27547...|\n",
            "|   833|[{126219, 7.04592...|\n",
            "|  1088|[{126219, 6.46081...|\n",
            "|  1238|[{126219, 7.27851...|\n",
            "|  1342|[{124273, 8.41849...|\n",
            "|  1580|[{126219, 5.49291...|\n",
            "|  1591|[{126219, 8.04896...|\n",
            "|  1645|[{126219, 7.71992...|\n",
            "|  1829|[{126219, 8.06880...|\n",
            "|  1959|[{124273, 5.78672...|\n",
            "|  2122|[{124273, 5.68641...|\n",
            "|  2142|[{124273, 7.66215...|\n",
            "|  2366|[{126219, 8.15004...|\n",
            "|  2659|[{124273, 7.83407...|\n",
            "|  2866|[{124273, 7.44986...|\n",
            "|  3175|[{126219, 8.36163...|\n",
            "|  3749|[{124273, 7.70656...|\n",
            "+------+--------------------+\n",
            "only showing top 20 rows\n",
            "\n"
          ],
          "name": "stdout"
        }
      ]
    },
    {
      "cell_type": "code",
      "metadata": {
        "id": "y8xSxQRsU1Qj",
        "colab": {
          "base_uri": "https://localhost:8080/"
        },
        "outputId": "2ed1d09a-da5b-47ec-dded-4b918fc12495"
      },
      "source": [
        "nrecommendations = recommendations\\\n",
        "    .withColumn(\"rec_exp\", explode(\"recommendations\"))\\\n",
        "    .select('userId', col(\"rec_exp.movieId\"), col(\"rec_exp.rating\"))\n",
        "nrecommendations.limit(10).show()"
      ],
      "execution_count": 31,
      "outputs": [
        {
          "output_type": "stream",
          "text": [
            "+------+-------+---------+\n",
            "|userId|movieId|   rating|\n",
            "+------+-------+---------+\n",
            "|   148| 126219| 8.531154|\n",
            "|   148| 124273|6.4166775|\n",
            "|   148| 121029| 5.992231|\n",
            "|   148| 107252| 5.394761|\n",
            "|   148| 114906|5.3100457|\n",
            "|   463| 126219| 8.279614|\n",
            "|   463| 124273|7.6671324|\n",
            "|   463| 121029|6.4955397|\n",
            "|   463| 107252|5.9404917|\n",
            "|   463| 110173|5.7849936|\n",
            "+------+-------+---------+\n",
            "\n"
          ],
          "name": "stdout"
        }
      ]
    },
    {
      "cell_type": "code",
      "metadata": {
        "id": "g0FdVTBxU1NI",
        "colab": {
          "base_uri": "https://localhost:8080/"
        },
        "outputId": "ed44f293-82a2-4b29-bcc1-bfd1d7e9e3f2"
      },
      "source": [
        "nrecommendations.join(movies, on='movieId').filter('userId = 100').show()"
      ],
      "execution_count": 32,
      "outputs": [
        {
          "output_type": "stream",
          "text": [
            "+-------+------+---------+--------------------+-----------------+\n",
            "|movieId|userId|   rating|               title|           genres|\n",
            "+-------+------+---------+--------------------+-----------------+\n",
            "| 124273|   100| 6.972379|Kevin Smith: Too ...|           Comedy|\n",
            "| 126219|   100|6.0728464|    Marihuana (1936)|Documentary|Drama|\n",
            "| 121029|   100|5.3636446|No Distance Left ...|      Documentary|\n",
            "|  81117|   100|  5.12783|Moth, The (Cma) (...|            Drama|\n",
            "| 130347|   100|4.9169455|Bill Hicks: Sane ...|           Comedy|\n",
            "+-------+------+---------+--------------------+-----------------+\n",
            "\n"
          ],
          "name": "stdout"
        }
      ]
    },
    {
      "cell_type": "code",
      "metadata": {
        "id": "0tpL7uYiU1J8",
        "colab": {
          "base_uri": "https://localhost:8080/"
        },
        "outputId": "b9b126bc-9970-4f87-d595-1434c99f8eed"
      },
      "source": [
        "ratings.join(movies, on='movieId').filter('userId = 100').sort('rating', ascending=False).limit(10).show()"
      ],
      "execution_count": 33,
      "outputs": [
        {
          "output_type": "stream",
          "text": [
            "+-------+------+------+--------------------+--------------------+\n",
            "|movieId|userId|rating|               title|              genres|\n",
            "+-------+------+------+--------------------+--------------------+\n",
            "|     50|   100|   5.0|Usual Suspects, T...|Crime|Mystery|Thr...|\n",
            "|    293|   100|   5.0|Léon: The Profess...|Action|Crime|Dram...|\n",
            "|    680|   100|   5.0|Alphaville (Alpha...|Drama|Mystery|Rom...|\n",
            "|   1449|   100|   5.0|Waiting for Guffm...|              Comedy|\n",
            "|    235|   100|   4.0|      Ed Wood (1994)|        Comedy|Drama|\n",
            "|    162|   100|   4.0|        Crumb (1994)|         Documentary|\n",
            "|    223|   100|   4.0|       Clerks (1994)|              Comedy|\n",
            "|    260|   100|   4.0|Star Wars: Episod...|Action|Adventure|...|\n",
            "|    265|   100|   4.0|Like Water for Ch...|Drama|Fantasy|Rom...|\n",
            "|    288|   100|   4.0|Natural Born Kill...|Action|Crime|Thri...|\n",
            "+-------+------+------+--------------------+--------------------+\n",
            "\n"
          ],
          "name": "stdout"
        }
      ]
    }
  ]
}