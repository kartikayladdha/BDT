{
  "nbformat": 4,
  "nbformat_minor": 0,
  "metadata": {
    "colab": {
      "name": "BDT_Project_ICA_SEM6.ipynb",
      "provenance": [],
      "collapsed_sections": [],
      "include_colab_link": true
    },
    "kernelspec": {
      "name": "python3",
      "display_name": "Python 3"
    },
    "language_info": {
      "name": "python"
    }
  },
  "cells": [
    {
      "cell_type": "markdown",
      "metadata": {
        "id": "view-in-github",
        "colab_type": "text"
      },
      "source": [
        "<a href=\"https://colab.research.google.com/github/kartikayladdha/BDT/blob/main/BDT%20Project/%20BDT_Project_ICA_SEM6.ipynb\" target=\"_parent\"><img src=\"https://colab.research.google.com/assets/colab-badge.svg\" alt=\"Open In Colab\"/></a>"
      ]
    },
    {
      "cell_type": "code",
      "metadata": {
        "id": "nRkiBTIUoQQi",
        "colab": {
          "base_uri": "https://localhost:8080/"
        },
        "outputId": "3cfcaabd-4b10-4ede-eb61-4d0e24d66bec"
      },
      "source": [
        "!pip install pandas_datareader"
      ],
      "execution_count": null,
      "outputs": [
        {
          "output_type": "stream",
          "text": [
            "Requirement already satisfied: pandas_datareader in /usr/local/lib/python3.7/dist-packages (0.9.0)\n",
            "Requirement already satisfied: pandas>=0.23 in /usr/local/lib/python3.7/dist-packages (from pandas_datareader) (1.1.5)\n",
            "Requirement already satisfied: requests>=2.19.0 in /usr/local/lib/python3.7/dist-packages (from pandas_datareader) (2.23.0)\n",
            "Requirement already satisfied: lxml in /usr/local/lib/python3.7/dist-packages (from pandas_datareader) (4.2.6)\n",
            "Requirement already satisfied: python-dateutil>=2.7.3 in /usr/local/lib/python3.7/dist-packages (from pandas>=0.23->pandas_datareader) (2.8.1)\n",
            "Requirement already satisfied: pytz>=2017.2 in /usr/local/lib/python3.7/dist-packages (from pandas>=0.23->pandas_datareader) (2018.9)\n",
            "Requirement already satisfied: numpy>=1.15.4 in /usr/local/lib/python3.7/dist-packages (from pandas>=0.23->pandas_datareader) (1.19.5)\n",
            "Requirement already satisfied: urllib3!=1.25.0,!=1.25.1,<1.26,>=1.21.1 in /usr/local/lib/python3.7/dist-packages (from requests>=2.19.0->pandas_datareader) (1.24.3)\n",
            "Requirement already satisfied: chardet<4,>=3.0.2 in /usr/local/lib/python3.7/dist-packages (from requests>=2.19.0->pandas_datareader) (3.0.4)\n",
            "Requirement already satisfied: certifi>=2017.4.17 in /usr/local/lib/python3.7/dist-packages (from requests>=2.19.0->pandas_datareader) (2020.12.5)\n",
            "Requirement already satisfied: idna<3,>=2.5 in /usr/local/lib/python3.7/dist-packages (from requests>=2.19.0->pandas_datareader) (2.10)\n",
            "Requirement already satisfied: six>=1.5 in /usr/local/lib/python3.7/dist-packages (from python-dateutil>=2.7.3->pandas>=0.23->pandas_datareader) (1.15.0)\n"
          ],
          "name": "stdout"
        }
      ]
    },
    {
      "cell_type": "code",
      "metadata": {
        "id": "-J66MFbCHJnp"
      },
      "source": [
        "import pandas as pd\n",
        "import numpy as np\n",
        "from pandas_datareader import data\n",
        "import matplotlib.pyplot as plt\n",
        "from pandas.plotting import scatter_matrix\n",
        "from __future__ import division\n",
        "import datetime"
      ],
      "execution_count": 1,
      "outputs": []
    },
    {
      "cell_type": "code",
      "metadata": {
        "id": "ju83KTnuoqwt"
      },
      "source": [
        "from pandas_datareader import data as web"
      ],
      "execution_count": 2,
      "outputs": []
    },
    {
      "cell_type": "code",
      "metadata": {
        "id": "VHdF2fzwHvnK"
      },
      "source": [
        "def get(tickers, startdate, enddate):\n",
        "  def data(ticker):\n",
        "    return (web.DataReader(ticker, data_source='yahoo', start=startdate, end=enddate))\n",
        "  datas = map (data, tickers)\n",
        "  return(pd.concat(datas, keys=tickers, names=['Ticker', 'Date']))\n",
        "\n",
        "tickers = ['JINDALSTEL.NS', 'JSWSTEEL.NS', 'HINDALCO.NS','TATASTEEL.NS']\n",
        "all_data = get(tickers, datetime.datetime(2015, 1, 1), datetime.datetime(2020, 1, 1))"
      ],
      "execution_count": 3,
      "outputs": []
    },
    {
      "cell_type": "code",
      "metadata": {
        "id": "u-ajSpR6IdCD",
        "colab": {
          "base_uri": "https://localhost:8080/",
          "height": 441
        },
        "outputId": "6c929d34-d58d-4561-b6be-12b05ad99b7c"
      },
      "source": [
        "all_data"
      ],
      "execution_count": 4,
      "outputs": [
        {
          "output_type": "execute_result",
          "data": {
            "text/html": [
              "<div>\n",
              "<style scoped>\n",
              "    .dataframe tbody tr th:only-of-type {\n",
              "        vertical-align: middle;\n",
              "    }\n",
              "\n",
              "    .dataframe tbody tr th {\n",
              "        vertical-align: top;\n",
              "    }\n",
              "\n",
              "    .dataframe thead th {\n",
              "        text-align: right;\n",
              "    }\n",
              "</style>\n",
              "<table border=\"1\" class=\"dataframe\">\n",
              "  <thead>\n",
              "    <tr style=\"text-align: right;\">\n",
              "      <th></th>\n",
              "      <th></th>\n",
              "      <th>High</th>\n",
              "      <th>Low</th>\n",
              "      <th>Open</th>\n",
              "      <th>Close</th>\n",
              "      <th>Volume</th>\n",
              "      <th>Adj Close</th>\n",
              "    </tr>\n",
              "    <tr>\n",
              "      <th>Ticker</th>\n",
              "      <th>Date</th>\n",
              "      <th></th>\n",
              "      <th></th>\n",
              "      <th></th>\n",
              "      <th></th>\n",
              "      <th></th>\n",
              "      <th></th>\n",
              "    </tr>\n",
              "  </thead>\n",
              "  <tbody>\n",
              "    <tr>\n",
              "      <th rowspan=\"5\" valign=\"top\">JINDALSTEL.NS</th>\n",
              "      <th>2015-01-01</th>\n",
              "      <td>158.350006</td>\n",
              "      <td>150.500000</td>\n",
              "      <td>152.000000</td>\n",
              "      <td>156.550003</td>\n",
              "      <td>6913722.0</td>\n",
              "      <td>156.550003</td>\n",
              "    </tr>\n",
              "    <tr>\n",
              "      <th>2015-01-02</th>\n",
              "      <td>164.600006</td>\n",
              "      <td>157.600006</td>\n",
              "      <td>158.000000</td>\n",
              "      <td>161.949997</td>\n",
              "      <td>8169041.0</td>\n",
              "      <td>161.949997</td>\n",
              "    </tr>\n",
              "    <tr>\n",
              "      <th>2015-01-05</th>\n",
              "      <td>166.750000</td>\n",
              "      <td>161.199997</td>\n",
              "      <td>164.800003</td>\n",
              "      <td>162.850006</td>\n",
              "      <td>12103749.0</td>\n",
              "      <td>162.850006</td>\n",
              "    </tr>\n",
              "    <tr>\n",
              "      <th>2015-01-06</th>\n",
              "      <td>163.399994</td>\n",
              "      <td>151.050003</td>\n",
              "      <td>160.949997</td>\n",
              "      <td>152.649994</td>\n",
              "      <td>9730592.0</td>\n",
              "      <td>152.649994</td>\n",
              "    </tr>\n",
              "    <tr>\n",
              "      <th>2015-01-07</th>\n",
              "      <td>154.750000</td>\n",
              "      <td>148.600006</td>\n",
              "      <td>154.199997</td>\n",
              "      <td>150.350006</td>\n",
              "      <td>5299465.0</td>\n",
              "      <td>150.350006</td>\n",
              "    </tr>\n",
              "    <tr>\n",
              "      <th>...</th>\n",
              "      <th>...</th>\n",
              "      <td>...</td>\n",
              "      <td>...</td>\n",
              "      <td>...</td>\n",
              "      <td>...</td>\n",
              "      <td>...</td>\n",
              "      <td>...</td>\n",
              "    </tr>\n",
              "    <tr>\n",
              "      <th rowspan=\"5\" valign=\"top\">TATASTEEL.NS</th>\n",
              "      <th>2019-12-27</th>\n",
              "      <td>471.799988</td>\n",
              "      <td>463.200012</td>\n",
              "      <td>469.250000</td>\n",
              "      <td>469.500000</td>\n",
              "      <td>11144333.0</td>\n",
              "      <td>457.637939</td>\n",
              "    </tr>\n",
              "    <tr>\n",
              "      <th>2019-12-30</th>\n",
              "      <td>476.299988</td>\n",
              "      <td>465.100006</td>\n",
              "      <td>470.100006</td>\n",
              "      <td>474.750000</td>\n",
              "      <td>11462074.0</td>\n",
              "      <td>462.755310</td>\n",
              "    </tr>\n",
              "    <tr>\n",
              "      <th>2019-12-31</th>\n",
              "      <td>475.299988</td>\n",
              "      <td>469.500000</td>\n",
              "      <td>472.649994</td>\n",
              "      <td>472.049988</td>\n",
              "      <td>9644145.0</td>\n",
              "      <td>460.123505</td>\n",
              "    </tr>\n",
              "    <tr>\n",
              "      <th>2020-01-01</th>\n",
              "      <td>476.500000</td>\n",
              "      <td>464.799988</td>\n",
              "      <td>473.000000</td>\n",
              "      <td>467.750000</td>\n",
              "      <td>12100530.0</td>\n",
              "      <td>455.932159</td>\n",
              "    </tr>\n",
              "    <tr>\n",
              "      <th>2020-01-02</th>\n",
              "      <td>487.799988</td>\n",
              "      <td>472.000000</td>\n",
              "      <td>472.000000</td>\n",
              "      <td>484.850006</td>\n",
              "      <td>21674961.0</td>\n",
              "      <td>472.600128</td>\n",
              "    </tr>\n",
              "  </tbody>\n",
              "</table>\n",
              "<p>4920 rows × 6 columns</p>\n",
              "</div>"
            ],
            "text/plain": [
              "                                High         Low  ...      Volume   Adj Close\n",
              "Ticker        Date                                ...                        \n",
              "JINDALSTEL.NS 2015-01-01  158.350006  150.500000  ...   6913722.0  156.550003\n",
              "              2015-01-02  164.600006  157.600006  ...   8169041.0  161.949997\n",
              "              2015-01-05  166.750000  161.199997  ...  12103749.0  162.850006\n",
              "              2015-01-06  163.399994  151.050003  ...   9730592.0  152.649994\n",
              "              2015-01-07  154.750000  148.600006  ...   5299465.0  150.350006\n",
              "...                              ...         ...  ...         ...         ...\n",
              "TATASTEEL.NS  2019-12-27  471.799988  463.200012  ...  11144333.0  457.637939\n",
              "              2019-12-30  476.299988  465.100006  ...  11462074.0  462.755310\n",
              "              2019-12-31  475.299988  469.500000  ...   9644145.0  460.123505\n",
              "              2020-01-01  476.500000  464.799988  ...  12100530.0  455.932159\n",
              "              2020-01-02  487.799988  472.000000  ...  21674961.0  472.600128\n",
              "\n",
              "[4920 rows x 6 columns]"
            ]
          },
          "metadata": {
            "tags": []
          },
          "execution_count": 4
        }
      ]
    },
    {
      "cell_type": "code",
      "metadata": {
        "id": "z2vt_1bhQya0",
        "colab": {
          "base_uri": "https://localhost:8080/",
          "height": 499
        },
        "outputId": "fbd39991-c9c0-4071-fe5c-8c4ab772f5fc"
      },
      "source": [
        "# Import matplotlib\n",
        "import matplotlib.pyplot as plt \n",
        "\n",
        "# Isolate the `Adj Close` values and transform the DataFrame\n",
        "daily_close_px = all_data[['Adj Close']].reset_index().pivot('Date', 'Ticker', 'Adj Close')\n",
        "\n",
        "# Calculate the daily percentage change for `daily_close_px`\n",
        "daily_pct_change = daily_close_px.pct_change()\n",
        "\n",
        "# Plot the distributions\n",
        "daily_pct_change.hist(bins=50, sharex=True, figsize=(12,8))\n",
        "\n",
        "# Show the resulting plot\n",
        "plt.show()"
      ],
      "execution_count": 5,
      "outputs": [
        {
          "output_type": "display_data",
          "data": {
            "image/png": "[encoded data removed]",
            "text/plain": [
              "<Figure size 864x576 with 4 Axes>"
            ]
          },
          "metadata": {
            "tags": [],
            "needs_background": "light"
          }
        }
      ]
    },
    {
      "cell_type": "code",
      "metadata": {
        "id": "oe9wtciGIfmY"
      },
      "source": [
        "from sklearn.model_selection import train_test_split, cross_val_score\n",
        "from sklearn.ensemble import RandomForestClassifier\n",
        "from sklearn.metrics import mean_squared_error,confusion_matrix, classification_report"
      ],
      "execution_count": 6,
      "outputs": []
    },
    {
      "cell_type": "code",
      "metadata": {
        "id": "mmqbZbJ0JXHd"
      },
      "source": [
        "datas=all_data"
      ],
      "execution_count": 7,
      "outputs": []
    },
    {
      "cell_type": "code",
      "metadata": {
        "id": "z7eaVmzbJM8d"
      },
      "source": [
        "# Initialize the `signals` DataFrame with the `signal` column\n",
        "datas['signal'] = 0.0\n",
        "\n",
        "# Create short simple moving average over the short window\n",
        "datas['short_mavg'] = datas['Close'].rolling(window=30, min_periods=1, center=False).mean()\n",
        "\n",
        "# Create long simple moving average over the long window\n",
        "datas['long_mavg'] = datas['Close'].rolling(window=120, min_periods=1, center=False).mean()\n",
        "\n",
        "# Create signals\n",
        "datas['signal'] = np.where(datas['short_mavg'] > datas['long_mavg'], 1.0, 0.0)"
      ],
      "execution_count": 8,
      "outputs": []
    },
    {
      "cell_type": "code",
      "metadata": {
        "id": "0cVaylDYJcYi"
      },
      "source": [
        "#calculation of exponential moving average\n",
        "def EMA(df, n):\n",
        "    EMA = pd.Series(df['Close'].ewm(span=n, min_periods=n).mean(), name='EMA_' + str(n))\n",
        "    return EMA\n",
        "datas['EMA21'] = EMA(datas, 21)\n",
        "datas['EMA63'] = EMA(datas, 63)\n",
        "datas['EMA252'] = EMA(datas, 252)\n",
        "datas.head()\n",
        "\n",
        "#calculation of rate of change\n",
        "def ROC(df, n):  \n",
        "    M = df.diff(n - 1)  \n",
        "    N = df.shift(n - 1)  \n",
        "    ROC = pd.Series(((M / N) * 100), name = 'ROC_' + str(n))   \n",
        "    return ROC\n",
        "datas['ROC21'] = ROC(datas['Close'], 21)\n",
        "datas['ROC63'] = ROC(datas['Close'], 63)\n",
        "\n",
        "#Calculation of price momentum\n",
        "def MOM(df, n):   \n",
        "    MOM = pd.Series(df.diff(n), name='Momentum_' + str(n))   \n",
        "    return MOM\n",
        "datas['MOM21'] = MOM(datas['Close'], 21)\n",
        "datas['MOM63'] = MOM(datas['Close'], 63)\n",
        "\n",
        "#calculation of relative strength index\n",
        "def RSI(series, period):\n",
        " delta = series.diff().dropna()\n",
        " u = delta * 0\n",
        " d = u.copy()\n",
        " u[delta > 0] = delta[delta > 0]\n",
        " d[delta < 0] = -delta[delta < 0]\n",
        " u[u.index[period-1]] = np.mean( u[:period] ) #first value is sum of avg gains\n",
        " u = u.drop(u.index[:(period-1)])\n",
        " d[d.index[period-1]] = np.mean( d[:period] ) #first value is sum of avg losses\n",
        " d = d.drop(d.index[:(period-1)])\n",
        " #rs = pd.stats.moments.ewma(u, com=period-1, adjust=False)\n",
        " rs=pd.DataFrame.ewm(u,com=period-1,adjust=False).mean() \n",
        " pd.DataFrame.ewm(d,com=period-1,adjust=False).mean()\n",
        " #pd.stats.moments.ewma(d, com=period-1, adjust=False)\n",
        " return 100 - 100 / (1 + (rs))\n",
        "datas['RSI21'] = RSI(datas['Close'], 21)\n",
        "datas['RSI63'] = RSI(datas['Close'], 63)\n",
        "datas['RSI252'] = RSI(datas['Close'], 252)\n",
        "\n",
        "#calculation of stochastic osillator.\n",
        "\n",
        "def STOK(close, low, high, n): \n",
        " STOK = ((close - low.rolling(n).mean()) / (high.rolling(n).mean() - low.rolling(n).mean())) * 100\n",
        " return STOK\n",
        "\n",
        "def STOD(close, low, high, n):\n",
        " STOK = ((close - low.rolling(n).mean()) / (high.rolling(n).mean() - low.rolling(n).mean())) * 100\n",
        " STOD = STOK.rolling(3).mean()\n",
        " return STOD\n",
        "datas['%K21'] = STOK(datas['Close'], datas['Low'], datas['High'], 21)\n",
        "datas['%D21'] = STOD(datas['Close'], datas['Low'], datas['High'], 21)\n",
        "datas['%K63'] = STOK(datas['Close'], datas['Low'], datas['High'], 63)\n",
        "datas['%D63'] = STOD(datas['Close'], datas['Low'], datas['High'], 63)\n",
        "datas['%K252'] = STOK(datas['Close'], datas['Low'], datas['High'], 252)\n",
        "datas['%D252'] = STOD(datas['Close'], datas['Low'], datas['High'], 252)\n"
      ],
      "execution_count": 9,
      "outputs": []
    },
    {
      "cell_type": "code",
      "metadata": {
        "id": "FNHEf7-UNq8T",
        "colab": {
          "base_uri": "https://localhost:8080/",
          "height": 335
        },
        "outputId": "5741530c-c55d-4273-9bc8-6c03b474067e"
      },
      "source": [
        "#Calculation of moving average\n",
        "def MA(df, n):\n",
        "    MA = pd.Series(df['Close'].rolling(n, min_periods=n).mean(), name='MA_' + str(n))\n",
        "    return MA\n",
        "datas['MA21'] = MA(datas, 21)\n",
        "datas['MA63'] = MA(datas, 63)\n",
        "datas['MA252'] = MA(datas, 252)\n",
        "datas.tail()"
      ],
      "execution_count": 10,
      "outputs": [
        {
          "output_type": "execute_result",
          "data": {
            "text/html": [
              "<div>\n",
              "<style scoped>\n",
              "    .dataframe tbody tr th:only-of-type {\n",
              "        vertical-align: middle;\n",
              "    }\n",
              "\n",
              "    .dataframe tbody tr th {\n",
              "        vertical-align: top;\n",
              "    }\n",
              "\n",
              "    .dataframe thead th {\n",
              "        text-align: right;\n",
              "    }\n",
              "</style>\n",
              "<table border=\"1\" class=\"dataframe\">\n",
              "  <thead>\n",
              "    <tr style=\"text-align: right;\">\n",
              "      <th></th>\n",
              "      <th></th>\n",
              "      <th>High</th>\n",
              "      <th>Low</th>\n",
              "      <th>Open</th>\n",
              "      <th>Close</th>\n",
              "      <th>Volume</th>\n",
              "      <th>Adj Close</th>\n",
              "      <th>signal</th>\n",
              "      <th>short_mavg</th>\n",
              "      <th>long_mavg</th>\n",
              "      <th>EMA21</th>\n",
              "      <th>EMA63</th>\n",
              "      <th>EMA252</th>\n",
              "      <th>ROC21</th>\n",
              "      <th>ROC63</th>\n",
              "      <th>MOM21</th>\n",
              "      <th>MOM63</th>\n",
              "      <th>RSI21</th>\n",
              "      <th>RSI63</th>\n",
              "      <th>RSI252</th>\n",
              "      <th>%K21</th>\n",
              "      <th>%D21</th>\n",
              "      <th>%K63</th>\n",
              "      <th>%D63</th>\n",
              "      <th>%K252</th>\n",
              "      <th>%D252</th>\n",
              "      <th>MA21</th>\n",
              "      <th>MA63</th>\n",
              "      <th>MA252</th>\n",
              "    </tr>\n",
              "    <tr>\n",
              "      <th>Ticker</th>\n",
              "      <th>Date</th>\n",
              "      <th></th>\n",
              "      <th></th>\n",
              "      <th></th>\n",
              "      <th></th>\n",
              "      <th></th>\n",
              "      <th></th>\n",
              "      <th></th>\n",
              "      <th></th>\n",
              "      <th></th>\n",
              "      <th></th>\n",
              "      <th></th>\n",
              "      <th></th>\n",
              "      <th></th>\n",
              "      <th></th>\n",
              "      <th></th>\n",
              "      <th></th>\n",
              "      <th></th>\n",
              "      <th></th>\n",
              "      <th></th>\n",
              "      <th></th>\n",
              "      <th></th>\n",
              "      <th></th>\n",
              "      <th></th>\n",
              "      <th></th>\n",
              "      <th></th>\n",
              "      <th></th>\n",
              "      <th></th>\n",
              "      <th></th>\n",
              "    </tr>\n",
              "  </thead>\n",
              "  <tbody>\n",
              "    <tr>\n",
              "      <th rowspan=\"5\" valign=\"top\">TATASTEEL.NS</th>\n",
              "      <th>2019-12-27</th>\n",
              "      <td>471.799988</td>\n",
              "      <td>463.200012</td>\n",
              "      <td>469.250000</td>\n",
              "      <td>469.500000</td>\n",
              "      <td>11144333.0</td>\n",
              "      <td>457.637939</td>\n",
              "      <td>1.0</td>\n",
              "      <td>422.813332</td>\n",
              "      <td>398.151666</td>\n",
              "      <td>435.660560</td>\n",
              "      <td>410.652425</td>\n",
              "      <td>447.986650</td>\n",
              "      <td>8.655402</td>\n",
              "      <td>26.618127</td>\n",
              "      <td>48.149994</td>\n",
              "      <td>92.149994</td>\n",
              "      <td>83.113920</td>\n",
              "      <td>81.714344</td>\n",
              "      <td>80.360183</td>\n",
              "      <td>367.113875</td>\n",
              "      <td>361.847437</td>\n",
              "      <td>599.838726</td>\n",
              "      <td>581.183292</td>\n",
              "      <td>165.718999</td>\n",
              "      <td>146.007002</td>\n",
              "      <td>429.966665</td>\n",
              "      <td>394.059524</td>\n",
              "      <td>452.268651</td>\n",
              "    </tr>\n",
              "    <tr>\n",
              "      <th>2019-12-30</th>\n",
              "      <td>476.299988</td>\n",
              "      <td>465.100006</td>\n",
              "      <td>470.100006</td>\n",
              "      <td>474.750000</td>\n",
              "      <td>11462074.0</td>\n",
              "      <td>462.755310</td>\n",
              "      <td>1.0</td>\n",
              "      <td>425.488332</td>\n",
              "      <td>397.883333</td>\n",
              "      <td>439.214145</td>\n",
              "      <td>412.655474</td>\n",
              "      <td>448.198218</td>\n",
              "      <td>11.052632</td>\n",
              "      <td>31.128302</td>\n",
              "      <td>42.649994</td>\n",
              "      <td>103.950012</td>\n",
              "      <td>83.158334</td>\n",
              "      <td>81.755713</td>\n",
              "      <td>80.377896</td>\n",
              "      <td>393.586434</td>\n",
              "      <td>377.599650</td>\n",
              "      <td>626.709314</td>\n",
              "      <td>605.986883</td>\n",
              "      <td>203.224699</td>\n",
              "      <td>174.079948</td>\n",
              "      <td>431.997617</td>\n",
              "      <td>395.709524</td>\n",
              "      <td>452.119842</td>\n",
              "    </tr>\n",
              "    <tr>\n",
              "      <th>2019-12-31</th>\n",
              "      <td>475.299988</td>\n",
              "      <td>469.500000</td>\n",
              "      <td>472.649994</td>\n",
              "      <td>472.049988</td>\n",
              "      <td>9644145.0</td>\n",
              "      <td>460.123505</td>\n",
              "      <td>1.0</td>\n",
              "      <td>427.554999</td>\n",
              "      <td>397.577083</td>\n",
              "      <td>442.199222</td>\n",
              "      <td>414.511553</td>\n",
              "      <td>448.386770</td>\n",
              "      <td>12.165850</td>\n",
              "      <td>25.628739</td>\n",
              "      <td>44.549988</td>\n",
              "      <td>110.000000</td>\n",
              "      <td>82.463919</td>\n",
              "      <td>81.515843</td>\n",
              "      <td>80.315109</td>\n",
              "      <td>357.760530</td>\n",
              "      <td>372.820280</td>\n",
              "      <td>597.382550</td>\n",
              "      <td>607.976863</td>\n",
              "      <td>186.023385</td>\n",
              "      <td>184.989028</td>\n",
              "      <td>434.119045</td>\n",
              "      <td>397.455556</td>\n",
              "      <td>451.955159</td>\n",
              "    </tr>\n",
              "    <tr>\n",
              "      <th>2020-01-01</th>\n",
              "      <td>476.500000</td>\n",
              "      <td>464.799988</td>\n",
              "      <td>473.000000</td>\n",
              "      <td>467.750000</td>\n",
              "      <td>12100530.0</td>\n",
              "      <td>455.932159</td>\n",
              "      <td>1.0</td>\n",
              "      <td>429.754999</td>\n",
              "      <td>397.222499</td>\n",
              "      <td>444.522020</td>\n",
              "      <td>416.175254</td>\n",
              "      <td>448.539839</td>\n",
              "      <td>17.039912</td>\n",
              "      <td>30.057002</td>\n",
              "      <td>46.899994</td>\n",
              "      <td>92.000000</td>\n",
              "      <td>81.747156</td>\n",
              "      <td>81.273541</td>\n",
              "      <td>80.252171</td>\n",
              "      <td>302.085321</td>\n",
              "      <td>351.144095</td>\n",
              "      <td>557.033151</td>\n",
              "      <td>593.708338</td>\n",
              "      <td>157.822898</td>\n",
              "      <td>182.356994</td>\n",
              "      <td>436.352378</td>\n",
              "      <td>398.915874</td>\n",
              "      <td>451.731945</td>\n",
              "    </tr>\n",
              "    <tr>\n",
              "      <th>2020-01-02</th>\n",
              "      <td>487.799988</td>\n",
              "      <td>472.000000</td>\n",
              "      <td>472.000000</td>\n",
              "      <td>484.850006</td>\n",
              "      <td>21674961.0</td>\n",
              "      <td>472.600128</td>\n",
              "      <td>1.0</td>\n",
              "      <td>432.626665</td>\n",
              "      <td>397.135416</td>\n",
              "      <td>448.188200</td>\n",
              "      <td>418.321340</td>\n",
              "      <td>448.826875</td>\n",
              "      <td>18.458349</td>\n",
              "      <td>34.493760</td>\n",
              "      <td>85.200012</td>\n",
              "      <td>125.200012</td>\n",
              "      <td>83.551598</td>\n",
              "      <td>81.957851</td>\n",
              "      <td>80.451869</td>\n",
              "      <td>417.524915</td>\n",
              "      <td>359.123589</td>\n",
              "      <td>668.922084</td>\n",
              "      <td>607.779262</td>\n",
              "      <td>275.744199</td>\n",
              "      <td>206.530161</td>\n",
              "      <td>440.409521</td>\n",
              "      <td>400.903175</td>\n",
              "      <td>451.564683</td>\n",
              "    </tr>\n",
              "  </tbody>\n",
              "</table>\n",
              "</div>"
            ],
            "text/plain": [
              "                               High         Low  ...        MA63       MA252\n",
              "Ticker       Date                                ...                        \n",
              "TATASTEEL.NS 2019-12-27  471.799988  463.200012  ...  394.059524  452.268651\n",
              "             2019-12-30  476.299988  465.100006  ...  395.709524  452.119842\n",
              "             2019-12-31  475.299988  469.500000  ...  397.455556  451.955159\n",
              "             2020-01-01  476.500000  464.799988  ...  398.915874  451.731945\n",
              "             2020-01-02  487.799988  472.000000  ...  400.903175  451.564683\n",
              "\n",
              "[5 rows x 28 columns]"
            ]
          },
          "metadata": {
            "tags": []
          },
          "execution_count": 10
        }
      ]
    },
    {
      "cell_type": "code",
      "metadata": {
        "id": "aBWLyxbQOWIJ",
        "colab": {
          "base_uri": "https://localhost:8080/",
          "height": 1000
        },
        "outputId": "18359953-d70e-468d-b78f-ad1bac2937b4"
      },
      "source": [
        "#Dealing with rows that contain NAN\n",
        "\n",
        "print(datas.isnull().sum())\n",
        "datasub=datas.dropna()\n",
        "datasub.isnull().sum()\n",
        "datasub"
      ],
      "execution_count": 36,
      "outputs": [
        {
          "output_type": "stream",
          "text": [
            "High            0\n",
            "Low             0\n",
            "Open            0\n",
            "Close           0\n",
            "Volume          0\n",
            "Adj Close       0\n",
            "signal          0\n",
            "short_mavg      0\n",
            "long_mavg       0\n",
            "EMA21          20\n",
            "EMA63          62\n",
            "EMA252        251\n",
            "ROC21          20\n",
            "ROC63          62\n",
            "MOM21          21\n",
            "MOM63          63\n",
            "RSI21          21\n",
            "RSI63          63\n",
            "RSI252        252\n",
            "%K21           20\n",
            "%D21           22\n",
            "%K63           62\n",
            "%D63           64\n",
            "%K252         251\n",
            "%D252         253\n",
            "MA21           20\n",
            "MA63           62\n",
            "MA252         251\n",
            "dtype: int64\n"
          ],
          "name": "stdout"
        },
        {
          "output_type": "execute_result",
          "data": {
            "text/html": [
              "<div>\n",
              "<style scoped>\n",
              "    .dataframe tbody tr th:only-of-type {\n",
              "        vertical-align: middle;\n",
              "    }\n",
              "\n",
              "    .dataframe tbody tr th {\n",
              "        vertical-align: top;\n",
              "    }\n",
              "\n",
              "    .dataframe thead th {\n",
              "        text-align: right;\n",
              "    }\n",
              "</style>\n",
              "<table border=\"1\" class=\"dataframe\">\n",
              "  <thead>\n",
              "    <tr style=\"text-align: right;\">\n",
              "      <th></th>\n",
              "      <th></th>\n",
              "      <th>High</th>\n",
              "      <th>Low</th>\n",
              "      <th>Open</th>\n",
              "      <th>Close</th>\n",
              "      <th>Volume</th>\n",
              "      <th>Adj Close</th>\n",
              "      <th>signal</th>\n",
              "      <th>short_mavg</th>\n",
              "      <th>long_mavg</th>\n",
              "      <th>EMA21</th>\n",
              "      <th>EMA63</th>\n",
              "      <th>EMA252</th>\n",
              "      <th>ROC21</th>\n",
              "      <th>ROC63</th>\n",
              "      <th>MOM21</th>\n",
              "      <th>MOM63</th>\n",
              "      <th>RSI21</th>\n",
              "      <th>RSI63</th>\n",
              "      <th>RSI252</th>\n",
              "      <th>%K21</th>\n",
              "      <th>%D21</th>\n",
              "      <th>%K63</th>\n",
              "      <th>%D63</th>\n",
              "      <th>%K252</th>\n",
              "      <th>%D252</th>\n",
              "      <th>MA21</th>\n",
              "      <th>MA63</th>\n",
              "      <th>MA252</th>\n",
              "    </tr>\n",
              "    <tr>\n",
              "      <th>Ticker</th>\n",
              "      <th>Date</th>\n",
              "      <th></th>\n",
              "      <th></th>\n",
              "      <th></th>\n",
              "      <th></th>\n",
              "      <th></th>\n",
              "      <th></th>\n",
              "      <th></th>\n",
              "      <th></th>\n",
              "      <th></th>\n",
              "      <th></th>\n",
              "      <th></th>\n",
              "      <th></th>\n",
              "      <th></th>\n",
              "      <th></th>\n",
              "      <th></th>\n",
              "      <th></th>\n",
              "      <th></th>\n",
              "      <th></th>\n",
              "      <th></th>\n",
              "      <th></th>\n",
              "      <th></th>\n",
              "      <th></th>\n",
              "      <th></th>\n",
              "      <th></th>\n",
              "      <th></th>\n",
              "      <th></th>\n",
              "      <th></th>\n",
              "      <th></th>\n",
              "    </tr>\n",
              "  </thead>\n",
              "  <tbody>\n",
              "    <tr>\n",
              "      <th rowspan=\"5\" valign=\"top\">JINDALSTEL.NS</th>\n",
              "      <th>2016-01-12</th>\n",
              "      <td>85.449997</td>\n",
              "      <td>79.199997</td>\n",
              "      <td>83.699997</td>\n",
              "      <td>80.000000</td>\n",
              "      <td>10828818.0</td>\n",
              "      <td>80.000000</td>\n",
              "      <td>1.0</td>\n",
              "      <td>90.660000</td>\n",
              "      <td>77.257917</td>\n",
              "      <td>88.932469</td>\n",
              "      <td>85.417172</td>\n",
              "      <td>94.647026</td>\n",
              "      <td>-11.991201</td>\n",
              "      <td>15.273773</td>\n",
              "      <td>-6.750000</td>\n",
              "      <td>9.750000</td>\n",
              "      <td>48.080689</td>\n",
              "      <td>50.741488</td>\n",
              "      <td>55.161324</td>\n",
              "      <td>-228.633231</td>\n",
              "      <td>-160.941053</td>\n",
              "      <td>-51.805182</td>\n",
              "      <td>20.058807</td>\n",
              "      <td>-461.038867</td>\n",
              "      <td>-417.818886</td>\n",
              "      <td>90.600000</td>\n",
              "      <td>84.169048</td>\n",
              "      <td>110.177580</td>\n",
              "    </tr>\n",
              "    <tr>\n",
              "      <th>2016-01-13</th>\n",
              "      <td>82.800003</td>\n",
              "      <td>74.599998</td>\n",
              "      <td>82.199997</td>\n",
              "      <td>77.800003</td>\n",
              "      <td>12945160.0</td>\n",
              "      <td>77.800003</td>\n",
              "      <td>1.0</td>\n",
              "      <td>90.076666</td>\n",
              "      <td>77.232084</td>\n",
              "      <td>87.920426</td>\n",
              "      <td>85.179063</td>\n",
              "      <td>94.493569</td>\n",
              "      <td>-14.080618</td>\n",
              "      <td>7.015139</td>\n",
              "      <td>-13.099998</td>\n",
              "      <td>8.400002</td>\n",
              "      <td>46.864113</td>\n",
              "      <td>50.341529</td>\n",
              "      <td>55.062960</td>\n",
              "      <td>-261.240189</td>\n",
              "      <td>-207.749335</td>\n",
              "      <td>-104.309941</td>\n",
              "      <td>-36.710906</td>\n",
              "      <td>-491.285958</td>\n",
              "      <td>-450.725100</td>\n",
              "      <td>89.976190</td>\n",
              "      <td>84.302381</td>\n",
              "      <td>109.840080</td>\n",
              "    </tr>\n",
              "    <tr>\n",
              "      <th>2016-01-14</th>\n",
              "      <td>76.750000</td>\n",
              "      <td>71.500000</td>\n",
              "      <td>76.699997</td>\n",
              "      <td>72.199997</td>\n",
              "      <td>11858071.0</td>\n",
              "      <td>72.199997</td>\n",
              "      <td>1.0</td>\n",
              "      <td>89.318333</td>\n",
              "      <td>77.177084</td>\n",
              "      <td>86.491296</td>\n",
              "      <td>84.773347</td>\n",
              "      <td>94.290744</td>\n",
              "      <td>-19.643853</td>\n",
              "      <td>-3.217160</td>\n",
              "      <td>-18.350006</td>\n",
              "      <td>-0.500000</td>\n",
              "      <td>45.651253</td>\n",
              "      <td>49.941526</td>\n",
              "      <td>54.964556</td>\n",
              "      <td>-367.838621</td>\n",
              "      <td>-285.904013</td>\n",
              "      <td>-235.658815</td>\n",
              "      <td>-130.591313</td>\n",
              "      <td>-582.442836</td>\n",
              "      <td>-511.589220</td>\n",
              "      <td>89.102380</td>\n",
              "      <td>84.294444</td>\n",
              "      <td>109.520834</td>\n",
              "    </tr>\n",
              "    <tr>\n",
              "      <th>2016-01-15</th>\n",
              "      <td>73.199997</td>\n",
              "      <td>62.000000</td>\n",
              "      <td>72.699997</td>\n",
              "      <td>64.000000</td>\n",
              "      <td>15515217.0</td>\n",
              "      <td>64.000000</td>\n",
              "      <td>1.0</td>\n",
              "      <td>88.388333</td>\n",
              "      <td>77.064167</td>\n",
              "      <td>84.446633</td>\n",
              "      <td>84.123995</td>\n",
              "      <td>94.015489</td>\n",
              "      <td>-30.510314</td>\n",
              "      <td>-13.571914</td>\n",
              "      <td>-25.849998</td>\n",
              "      <td>-10.599998</td>\n",
              "      <td>44.443528</td>\n",
              "      <td>49.541530</td>\n",
              "      <td>54.866113</td>\n",
              "      <td>-486.824105</td>\n",
              "      <td>-371.967638</td>\n",
              "      <td>-411.055147</td>\n",
              "      <td>-250.341301</td>\n",
              "      <td>-712.109810</td>\n",
              "      <td>-595.279535</td>\n",
              "      <td>87.871428</td>\n",
              "      <td>84.126191</td>\n",
              "      <td>109.178175</td>\n",
              "    </tr>\n",
              "    <tr>\n",
              "      <th>2016-01-18</th>\n",
              "      <td>64.900002</td>\n",
              "      <td>59.000000</td>\n",
              "      <td>62.349998</td>\n",
              "      <td>60.000000</td>\n",
              "      <td>15693048.0</td>\n",
              "      <td>60.000000</td>\n",
              "      <td>1.0</td>\n",
              "      <td>87.274999</td>\n",
              "      <td>76.920000</td>\n",
              "      <td>82.224212</td>\n",
              "      <td>83.369911</td>\n",
              "      <td>93.706752</td>\n",
              "      <td>-34.065934</td>\n",
              "      <td>-20.371598</td>\n",
              "      <td>-32.099998</td>\n",
              "      <td>-14.050003</td>\n",
              "      <td>43.242333</td>\n",
              "      <td>49.141593</td>\n",
              "      <td>54.767632</td>\n",
              "      <td>-530.122870</td>\n",
              "      <td>-461.595198</td>\n",
              "      <td>-492.632844</td>\n",
              "      <td>-379.782269</td>\n",
              "      <td>-773.191875</td>\n",
              "      <td>-689.248174</td>\n",
              "      <td>86.342857</td>\n",
              "      <td>83.903175</td>\n",
              "      <td>108.789683</td>\n",
              "    </tr>\n",
              "    <tr>\n",
              "      <th>...</th>\n",
              "      <th>...</th>\n",
              "      <td>...</td>\n",
              "      <td>...</td>\n",
              "      <td>...</td>\n",
              "      <td>...</td>\n",
              "      <td>...</td>\n",
              "      <td>...</td>\n",
              "      <td>...</td>\n",
              "      <td>...</td>\n",
              "      <td>...</td>\n",
              "      <td>...</td>\n",
              "      <td>...</td>\n",
              "      <td>...</td>\n",
              "      <td>...</td>\n",
              "      <td>...</td>\n",
              "      <td>...</td>\n",
              "      <td>...</td>\n",
              "      <td>...</td>\n",
              "      <td>...</td>\n",
              "      <td>...</td>\n",
              "      <td>...</td>\n",
              "      <td>...</td>\n",
              "      <td>...</td>\n",
              "      <td>...</td>\n",
              "      <td>...</td>\n",
              "      <td>...</td>\n",
              "      <td>...</td>\n",
              "      <td>...</td>\n",
              "      <td>...</td>\n",
              "    </tr>\n",
              "    <tr>\n",
              "      <th rowspan=\"5\" valign=\"top\">TATASTEEL.NS</th>\n",
              "      <th>2019-12-27</th>\n",
              "      <td>471.799988</td>\n",
              "      <td>463.200012</td>\n",
              "      <td>469.250000</td>\n",
              "      <td>469.500000</td>\n",
              "      <td>11144333.0</td>\n",
              "      <td>457.637939</td>\n",
              "      <td>1.0</td>\n",
              "      <td>422.813332</td>\n",
              "      <td>398.151666</td>\n",
              "      <td>435.660560</td>\n",
              "      <td>410.652425</td>\n",
              "      <td>447.986650</td>\n",
              "      <td>8.655402</td>\n",
              "      <td>26.618127</td>\n",
              "      <td>48.149994</td>\n",
              "      <td>92.149994</td>\n",
              "      <td>83.113920</td>\n",
              "      <td>81.714344</td>\n",
              "      <td>80.360183</td>\n",
              "      <td>367.113875</td>\n",
              "      <td>361.847437</td>\n",
              "      <td>599.838726</td>\n",
              "      <td>581.183292</td>\n",
              "      <td>165.718999</td>\n",
              "      <td>146.007002</td>\n",
              "      <td>429.966665</td>\n",
              "      <td>394.059524</td>\n",
              "      <td>452.268651</td>\n",
              "    </tr>\n",
              "    <tr>\n",
              "      <th>2019-12-30</th>\n",
              "      <td>476.299988</td>\n",
              "      <td>465.100006</td>\n",
              "      <td>470.100006</td>\n",
              "      <td>474.750000</td>\n",
              "      <td>11462074.0</td>\n",
              "      <td>462.755310</td>\n",
              "      <td>1.0</td>\n",
              "      <td>425.488332</td>\n",
              "      <td>397.883333</td>\n",
              "      <td>439.214145</td>\n",
              "      <td>412.655474</td>\n",
              "      <td>448.198218</td>\n",
              "      <td>11.052632</td>\n",
              "      <td>31.128302</td>\n",
              "      <td>42.649994</td>\n",
              "      <td>103.950012</td>\n",
              "      <td>83.158334</td>\n",
              "      <td>81.755713</td>\n",
              "      <td>80.377896</td>\n",
              "      <td>393.586434</td>\n",
              "      <td>377.599650</td>\n",
              "      <td>626.709314</td>\n",
              "      <td>605.986883</td>\n",
              "      <td>203.224699</td>\n",
              "      <td>174.079948</td>\n",
              "      <td>431.997617</td>\n",
              "      <td>395.709524</td>\n",
              "      <td>452.119842</td>\n",
              "    </tr>\n",
              "    <tr>\n",
              "      <th>2019-12-31</th>\n",
              "      <td>475.299988</td>\n",
              "      <td>469.500000</td>\n",
              "      <td>472.649994</td>\n",
              "      <td>472.049988</td>\n",
              "      <td>9644145.0</td>\n",
              "      <td>460.123505</td>\n",
              "      <td>1.0</td>\n",
              "      <td>427.554999</td>\n",
              "      <td>397.577083</td>\n",
              "      <td>442.199222</td>\n",
              "      <td>414.511553</td>\n",
              "      <td>448.386770</td>\n",
              "      <td>12.165850</td>\n",
              "      <td>25.628739</td>\n",
              "      <td>44.549988</td>\n",
              "      <td>110.000000</td>\n",
              "      <td>82.463919</td>\n",
              "      <td>81.515843</td>\n",
              "      <td>80.315109</td>\n",
              "      <td>357.760530</td>\n",
              "      <td>372.820280</td>\n",
              "      <td>597.382550</td>\n",
              "      <td>607.976863</td>\n",
              "      <td>186.023385</td>\n",
              "      <td>184.989028</td>\n",
              "      <td>434.119045</td>\n",
              "      <td>397.455556</td>\n",
              "      <td>451.955159</td>\n",
              "    </tr>\n",
              "    <tr>\n",
              "      <th>2020-01-01</th>\n",
              "      <td>476.500000</td>\n",
              "      <td>464.799988</td>\n",
              "      <td>473.000000</td>\n",
              "      <td>467.750000</td>\n",
              "      <td>12100530.0</td>\n",
              "      <td>455.932159</td>\n",
              "      <td>1.0</td>\n",
              "      <td>429.754999</td>\n",
              "      <td>397.222499</td>\n",
              "      <td>444.522020</td>\n",
              "      <td>416.175254</td>\n",
              "      <td>448.539839</td>\n",
              "      <td>17.039912</td>\n",
              "      <td>30.057002</td>\n",
              "      <td>46.899994</td>\n",
              "      <td>92.000000</td>\n",
              "      <td>81.747156</td>\n",
              "      <td>81.273541</td>\n",
              "      <td>80.252171</td>\n",
              "      <td>302.085321</td>\n",
              "      <td>351.144095</td>\n",
              "      <td>557.033151</td>\n",
              "      <td>593.708338</td>\n",
              "      <td>157.822898</td>\n",
              "      <td>182.356994</td>\n",
              "      <td>436.352378</td>\n",
              "      <td>398.915874</td>\n",
              "      <td>451.731945</td>\n",
              "    </tr>\n",
              "    <tr>\n",
              "      <th>2020-01-02</th>\n",
              "      <td>487.799988</td>\n",
              "      <td>472.000000</td>\n",
              "      <td>472.000000</td>\n",
              "      <td>484.850006</td>\n",
              "      <td>21674961.0</td>\n",
              "      <td>472.600128</td>\n",
              "      <td>1.0</td>\n",
              "      <td>432.626665</td>\n",
              "      <td>397.135416</td>\n",
              "      <td>448.188200</td>\n",
              "      <td>418.321340</td>\n",
              "      <td>448.826875</td>\n",
              "      <td>18.458349</td>\n",
              "      <td>34.493760</td>\n",
              "      <td>85.200012</td>\n",
              "      <td>125.200012</td>\n",
              "      <td>83.551598</td>\n",
              "      <td>81.957851</td>\n",
              "      <td>80.451869</td>\n",
              "      <td>417.524915</td>\n",
              "      <td>359.123589</td>\n",
              "      <td>668.922084</td>\n",
              "      <td>607.779262</td>\n",
              "      <td>275.744199</td>\n",
              "      <td>206.530161</td>\n",
              "      <td>440.409521</td>\n",
              "      <td>400.903175</td>\n",
              "      <td>451.564683</td>\n",
              "    </tr>\n",
              "  </tbody>\n",
              "</table>\n",
              "<p>4667 rows × 28 columns</p>\n",
              "</div>"
            ],
            "text/plain": [
              "                                High         Low  ...        MA63       MA252\n",
              "Ticker        Date                                ...                        \n",
              "JINDALSTEL.NS 2016-01-12   85.449997   79.199997  ...   84.169048  110.177580\n",
              "              2016-01-13   82.800003   74.599998  ...   84.302381  109.840080\n",
              "              2016-01-14   76.750000   71.500000  ...   84.294444  109.520834\n",
              "              2016-01-15   73.199997   62.000000  ...   84.126191  109.178175\n",
              "              2016-01-18   64.900002   59.000000  ...   83.903175  108.789683\n",
              "...                              ...         ...  ...         ...         ...\n",
              "TATASTEEL.NS  2019-12-27  471.799988  463.200012  ...  394.059524  452.268651\n",
              "              2019-12-30  476.299988  465.100006  ...  395.709524  452.119842\n",
              "              2019-12-31  475.299988  469.500000  ...  397.455556  451.955159\n",
              "              2020-01-01  476.500000  464.799988  ...  398.915874  451.731945\n",
              "              2020-01-02  487.799988  472.000000  ...  400.903175  451.564683\n",
              "\n",
              "[4667 rows x 28 columns]"
            ]
          },
          "metadata": {
            "tags": []
          },
          "execution_count": 36
        }
      ]
    },
    {
      "cell_type": "code",
      "metadata": {
        "id": "hq_raRjoKM-G"
      },
      "source": [
        "datasub.to_excel('exp.xlsx')"
      ],
      "execution_count": 37,
      "outputs": []
    },
    {
      "cell_type": "code",
      "metadata": {
        "id": "RPr86rswOs9r",
        "colab": {
          "base_uri": "https://localhost:8080/",
          "height": 335
        },
        "outputId": "ff30c4ce-cba5-4920-b032-ef44a0e0ce1b"
      },
      "source": [
        "#excluding columns that are not needed for our prediction.\n",
        "\n",
        "datasubs=datasub.drop(['Close','High','Low','Open', 'Volume','short_mavg','long_mavg','Adj Close'], axis=1)\n",
        "datasubs.head()"
      ],
      "execution_count": 12,
      "outputs": [
        {
          "output_type": "execute_result",
          "data": {
            "text/html": [
              "<div>\n",
              "<style scoped>\n",
              "    .dataframe tbody tr th:only-of-type {\n",
              "        vertical-align: middle;\n",
              "    }\n",
              "\n",
              "    .dataframe tbody tr th {\n",
              "        vertical-align: top;\n",
              "    }\n",
              "\n",
              "    .dataframe thead th {\n",
              "        text-align: right;\n",
              "    }\n",
              "</style>\n",
              "<table border=\"1\" class=\"dataframe\">\n",
              "  <thead>\n",
              "    <tr style=\"text-align: right;\">\n",
              "      <th></th>\n",
              "      <th></th>\n",
              "      <th>signal</th>\n",
              "      <th>EMA21</th>\n",
              "      <th>EMA63</th>\n",
              "      <th>EMA252</th>\n",
              "      <th>ROC21</th>\n",
              "      <th>ROC63</th>\n",
              "      <th>MOM21</th>\n",
              "      <th>MOM63</th>\n",
              "      <th>RSI21</th>\n",
              "      <th>RSI63</th>\n",
              "      <th>RSI252</th>\n",
              "      <th>%K21</th>\n",
              "      <th>%D21</th>\n",
              "      <th>%K63</th>\n",
              "      <th>%D63</th>\n",
              "      <th>%K252</th>\n",
              "      <th>%D252</th>\n",
              "      <th>MA21</th>\n",
              "      <th>MA63</th>\n",
              "      <th>MA252</th>\n",
              "    </tr>\n",
              "    <tr>\n",
              "      <th>Ticker</th>\n",
              "      <th>Date</th>\n",
              "      <th></th>\n",
              "      <th></th>\n",
              "      <th></th>\n",
              "      <th></th>\n",
              "      <th></th>\n",
              "      <th></th>\n",
              "      <th></th>\n",
              "      <th></th>\n",
              "      <th></th>\n",
              "      <th></th>\n",
              "      <th></th>\n",
              "      <th></th>\n",
              "      <th></th>\n",
              "      <th></th>\n",
              "      <th></th>\n",
              "      <th></th>\n",
              "      <th></th>\n",
              "      <th></th>\n",
              "      <th></th>\n",
              "      <th></th>\n",
              "    </tr>\n",
              "  </thead>\n",
              "  <tbody>\n",
              "    <tr>\n",
              "      <th rowspan=\"5\" valign=\"top\">JINDALSTEL.NS</th>\n",
              "      <th>2016-01-12</th>\n",
              "      <td>1.0</td>\n",
              "      <td>88.932469</td>\n",
              "      <td>85.417172</td>\n",
              "      <td>94.647026</td>\n",
              "      <td>-11.991201</td>\n",
              "      <td>15.273773</td>\n",
              "      <td>-6.750000</td>\n",
              "      <td>9.750000</td>\n",
              "      <td>48.080689</td>\n",
              "      <td>50.741488</td>\n",
              "      <td>55.161324</td>\n",
              "      <td>-228.633231</td>\n",
              "      <td>-160.941053</td>\n",
              "      <td>-51.805182</td>\n",
              "      <td>20.058807</td>\n",
              "      <td>-461.038867</td>\n",
              "      <td>-417.818886</td>\n",
              "      <td>90.600000</td>\n",
              "      <td>84.169048</td>\n",
              "      <td>110.177580</td>\n",
              "    </tr>\n",
              "    <tr>\n",
              "      <th>2016-01-13</th>\n",
              "      <td>1.0</td>\n",
              "      <td>87.920426</td>\n",
              "      <td>85.179063</td>\n",
              "      <td>94.493569</td>\n",
              "      <td>-14.080618</td>\n",
              "      <td>7.015139</td>\n",
              "      <td>-13.099998</td>\n",
              "      <td>8.400002</td>\n",
              "      <td>46.864113</td>\n",
              "      <td>50.341529</td>\n",
              "      <td>55.062960</td>\n",
              "      <td>-261.240189</td>\n",
              "      <td>-207.749335</td>\n",
              "      <td>-104.309941</td>\n",
              "      <td>-36.710906</td>\n",
              "      <td>-491.285958</td>\n",
              "      <td>-450.725100</td>\n",
              "      <td>89.976190</td>\n",
              "      <td>84.302381</td>\n",
              "      <td>109.840080</td>\n",
              "    </tr>\n",
              "    <tr>\n",
              "      <th>2016-01-14</th>\n",
              "      <td>1.0</td>\n",
              "      <td>86.491296</td>\n",
              "      <td>84.773347</td>\n",
              "      <td>94.290744</td>\n",
              "      <td>-19.643853</td>\n",
              "      <td>-3.217160</td>\n",
              "      <td>-18.350006</td>\n",
              "      <td>-0.500000</td>\n",
              "      <td>45.651253</td>\n",
              "      <td>49.941526</td>\n",
              "      <td>54.964556</td>\n",
              "      <td>-367.838621</td>\n",
              "      <td>-285.904013</td>\n",
              "      <td>-235.658815</td>\n",
              "      <td>-130.591313</td>\n",
              "      <td>-582.442836</td>\n",
              "      <td>-511.589220</td>\n",
              "      <td>89.102380</td>\n",
              "      <td>84.294444</td>\n",
              "      <td>109.520834</td>\n",
              "    </tr>\n",
              "    <tr>\n",
              "      <th>2016-01-15</th>\n",
              "      <td>1.0</td>\n",
              "      <td>84.446633</td>\n",
              "      <td>84.123995</td>\n",
              "      <td>94.015489</td>\n",
              "      <td>-30.510314</td>\n",
              "      <td>-13.571914</td>\n",
              "      <td>-25.849998</td>\n",
              "      <td>-10.599998</td>\n",
              "      <td>44.443528</td>\n",
              "      <td>49.541530</td>\n",
              "      <td>54.866113</td>\n",
              "      <td>-486.824105</td>\n",
              "      <td>-371.967638</td>\n",
              "      <td>-411.055147</td>\n",
              "      <td>-250.341301</td>\n",
              "      <td>-712.109810</td>\n",
              "      <td>-595.279535</td>\n",
              "      <td>87.871428</td>\n",
              "      <td>84.126191</td>\n",
              "      <td>109.178175</td>\n",
              "    </tr>\n",
              "    <tr>\n",
              "      <th>2016-01-18</th>\n",
              "      <td>1.0</td>\n",
              "      <td>82.224212</td>\n",
              "      <td>83.369911</td>\n",
              "      <td>93.706752</td>\n",
              "      <td>-34.065934</td>\n",
              "      <td>-20.371598</td>\n",
              "      <td>-32.099998</td>\n",
              "      <td>-14.050003</td>\n",
              "      <td>43.242333</td>\n",
              "      <td>49.141593</td>\n",
              "      <td>54.767632</td>\n",
              "      <td>-530.122870</td>\n",
              "      <td>-461.595198</td>\n",
              "      <td>-492.632844</td>\n",
              "      <td>-379.782269</td>\n",
              "      <td>-773.191875</td>\n",
              "      <td>-689.248174</td>\n",
              "      <td>86.342857</td>\n",
              "      <td>83.903175</td>\n",
              "      <td>108.789683</td>\n",
              "    </tr>\n",
              "  </tbody>\n",
              "</table>\n",
              "</div>"
            ],
            "text/plain": [
              "                          signal      EMA21  ...       MA63       MA252\n",
              "Ticker        Date                           ...                       \n",
              "JINDALSTEL.NS 2016-01-12     1.0  88.932469  ...  84.169048  110.177580\n",
              "              2016-01-13     1.0  87.920426  ...  84.302381  109.840080\n",
              "              2016-01-14     1.0  86.491296  ...  84.294444  109.520834\n",
              "              2016-01-15     1.0  84.446633  ...  84.126191  109.178175\n",
              "              2016-01-18     1.0  82.224212  ...  83.903175  108.789683\n",
              "\n",
              "[5 rows x 20 columns]"
            ]
          },
          "metadata": {
            "tags": []
          },
          "execution_count": 12
        }
      ]
    },
    {
      "cell_type": "code",
      "metadata": {
        "id": "jGwv-EoOO3SC",
        "colab": {
          "base_uri": "https://localhost:8080/",
          "height": 875
        },
        "outputId": "1b939331-233e-4cd3-db64-f2964a37c2fc"
      },
      "source": [
        "daily_close_px = datas[['Close']].reset_index().pivot('Date', 'Ticker', 'Close')\n",
        "daily_close_px.plot(grid=True)\n",
        "plt.show()\n",
        "\n",
        "fig = plt.figure()\n",
        "fig.set_size_inches(5,5)\n",
        "data_s = datasubs.groupby(['signal']).size()\n",
        "names=['EMA21','EMA63','EMA252','ROC21','ROC63','MOM21','MOM63','RSI21','RSI63','RSI252','K21','D21','%K63','%D63','%K252','%D252','MA21','MA63','MA252']\n",
        "\n",
        "print(\"upward  {}% out of {} total datasize\".format(100* data_s[1]/(data_s[1]+data_s[0]), data_s[1]+data_s[0]))\n",
        "plot = data_s.plot(kind='barh', color='red')\n",
        "X=datasubs.drop(['signal'], axis=1)\n",
        "y=datasubs['signal']\n",
        "\n",
        "\n",
        "\n",
        "correlations = X.corr()\n",
        "# plot correlation matrix\n",
        "fig = plt.figure()\n",
        "ax = fig.add_subplot(111)\n",
        "cax = ax.matshow(correlations, vmin=-1, vmax=1)\n",
        "fig.colorbar(cax)\n",
        "ticks = np.arange(0,19,1)\n",
        "ax.set_xticks(ticks)\n",
        "ax.set_yticks(ticks)\n",
        "ax.set_xticklabels(names, rotation = 90)\n",
        "ax.set_yticklabels(names)\n",
        "plt.show()"
      ],
      "execution_count": 14,
      "outputs": [
        {
          "output_type": "display_data",
          "data": {
            "image/png": "[encoded data removed]",
            "text/plain": [
              "<Figure size 432x288 with 1 Axes>"
            ]
          },
          "metadata": {
            "tags": [],
            "needs_background": "light"
          }
        },
        {
          "output_type": "stream",
          "text": [
            "upward  56.50310692093422% out of 4667 total datasize\n"
          ],
          "name": "stdout"
        },
        {
          "output_type": "display_data",
          "data": {
            "image/png": "[encoded data removed]",
            "text/plain": [
              "<Figure size 360x360 with 1 Axes>"
            ]
          },
          "metadata": {
            "tags": [],
            "needs_background": "light"
          }
        },
        {
          "output_type": "display_data",
          "data": {
            "image/png": "[encoded data removed]",
            "text/plain": [
              "<Figure size 432x288 with 2 Axes>"
            ]
          },
          "metadata": {
            "tags": [],
            "needs_background": "light"
          }
        }
      ]
    },
    {
      "cell_type": "code",
      "metadata": {
        "id": "f0czyaWLPLGN",
        "colab": {
          "base_uri": "https://localhost:8080/"
        },
        "outputId": "3deab5af-eae8-4d4c-ca63-6274a63de992"
      },
      "source": [
        "forest = RandomForestClassifier(n_estimators=500,random_state=1,n_jobs=-1)\n",
        "forest.fit(X, y)"
      ],
      "execution_count": 16,
      "outputs": [
        {
          "output_type": "execute_result",
          "data": {
            "text/plain": [
              "RandomForestClassifier(bootstrap=True, ccp_alpha=0.0, class_weight=None,\n",
              "                       criterion='gini', max_depth=None, max_features='auto',\n",
              "                       max_leaf_nodes=None, max_samples=None,\n",
              "                       min_impurity_decrease=0.0, min_impurity_split=None,\n",
              "                       min_samples_leaf=1, min_samples_split=2,\n",
              "                       min_weight_fraction_leaf=0.0, n_estimators=500,\n",
              "                       n_jobs=-1, oob_score=False, random_state=1, verbose=0,\n",
              "                       warm_start=False)"
            ]
          },
          "metadata": {
            "tags": []
          },
          "execution_count": 16
        }
      ]
    },
    {
      "cell_type": "code",
      "metadata": {
        "id": "BwuDqCWjQ3J1",
        "colab": {
          "base_uri": "https://localhost:8080/",
          "height": 635
        },
        "outputId": "23fef484-f9e5-4e56-f2dc-86dab930042b"
      },
      "source": [
        "Importance = pd.DataFrame({'Importance':forest.feature_importances_*100}, index=X.columns)\n",
        "print(Importance.sort_values('Importance', axis=0, ascending=True))\n",
        "Importance.sort_values('Importance', axis=0, ascending=True).plot(kind='barh', color='r', )\n",
        "plt.xlabel('Variable Importance')\n",
        "plt.gca().legend_ = None"
      ],
      "execution_count": 17,
      "outputs": [
        {
          "output_type": "stream",
          "text": [
            "        Importance\n",
            "RSI21     1.156203\n",
            "%K21      1.491631\n",
            "RSI63     1.532833\n",
            "%D21      1.619572\n",
            "MOM21     1.911548\n",
            "ROC21     2.057489\n",
            "EMA63     2.213268\n",
            "EMA21     2.261497\n",
            "MA21      2.379896\n",
            "MA63      2.380289\n",
            "MA252     2.458305\n",
            "RSI252    2.672746\n",
            "EMA252    2.698272\n",
            "%K63      3.396239\n",
            "%D63      5.193133\n",
            "ROC63    11.282740\n",
            "MOM63    12.848912\n",
            "%D252    18.994694\n",
            "%K252    21.450736\n"
          ],
          "name": "stdout"
        },
        {
          "output_type": "display_data",
          "data": {
            "image/png": "[encoded data removed]",
            "text/plain": [
              "<Figure size 432x288 with 1 Axes>"
            ]
          },
          "metadata": {
            "tags": [],
            "needs_background": "light"
          }
        }
      ]
    },
    {
      "cell_type": "code",
      "metadata": {
        "id": "y5sdUF-MQ88T"
      },
      "source": [
        "\n",
        "import numpy as np\n",
        "from sklearn.model_selection import train_test_split\n",
        "from sklearn import datasets\n",
        "from sklearn import svm,neighbors\n",
        "from sklearn.model_selection import cross_val_score\n",
        "from sklearn.preprocessing import RobustScaler\n",
        "from sklearn import metrics\n",
        "from sklearn.model_selection import cross_val_predict\n",
        "from sklearn import model_selection\n",
        "from sklearn.metrics import classification_report\n",
        "from sklearn.metrics import confusion_matrix\n",
        "from sklearn.metrics import accuracy_score\n",
        "from sklearn.tree import DecisionTreeClassifier\n",
        "from sklearn.neighbors import KNeighborsClassifier\n",
        "from sklearn.naive_bayes import GaussianNB\n",
        "from sklearn.svm import SVC"
      ],
      "execution_count": 18,
      "outputs": []
    },
    {
      "cell_type": "code",
      "metadata": {
        "id": "NxZg9mVcRATu",
        "colab": {
          "base_uri": "https://localhost:8080/"
        },
        "outputId": "f13c5f14-297a-48a3-b10d-971d2a30ef97"
      },
      "source": [
        "X_1=datasub.drop(['signal'],axis=1)\n",
        "X_train, X_test, Y_train, Y_test = train_test_split(X_1, y, test_size=0.2, random_state=1)\n",
        "print (X_train.shape, Y_train.shape)\n",
        "print (X_test.shape, Y_test.shape)\n",
        "from sklearn.preprocessing import RobustScaler\n",
        "X_train_1=X_train.drop(['Close','High','Low','Open', 'Volume','short_mavg','long_mavg'], axis=1)\n",
        "X_test_1=X_test.drop(['Close','High','Low','Open', 'Volume','short_mavg','long_mavg'], axis=1)\n",
        "\n",
        "rs = RobustScaler()\n",
        "rs.fit(X_train_1)\n",
        "X_train_std = rs.transform(X_train_1)\n",
        "X_test_std = rs.transform(X_test_1)"
      ],
      "execution_count": 19,
      "outputs": [
        {
          "output_type": "stream",
          "text": [
            "(3733, 27) (3733,)\n",
            "(934, 27) (934,)\n"
          ],
          "name": "stdout"
        }
      ]
    },
    {
      "cell_type": "code",
      "metadata": {
        "id": "cjQa-EXoYWKa",
        "colab": {
          "base_uri": "https://localhost:8080/"
        },
        "outputId": "c1b5aacb-1a99-4d2b-aa74-98c221ebf4a2"
      },
      "source": [
        "print(X_train)\n",
        "print(X_test)"
      ],
      "execution_count": 20,
      "outputs": [
        {
          "output_type": "stream",
          "text": [
            "                                High         Low  ...        MA63       MA252\n",
            "Ticker        Date                                ...                        \n",
            "TATASTEEL.NS  2015-09-09  230.371719  221.368362  ...  251.793927  272.305974\n",
            "JSWSTEEL.NS   2018-09-14  412.350006  402.200012  ...  340.264286  300.374603\n",
            "TATASTEEL.NS  2019-01-09  497.299988  475.250000  ...  539.596825  590.571814\n",
            "HINDALCO.NS   2016-09-12  150.600006  139.899994  ...  138.350794   96.116270\n",
            "JINDALSTEL.NS 2017-08-16  139.800003  130.350006  ...  130.126984  100.551587\n",
            "...                              ...         ...  ...         ...         ...\n",
            "HINDALCO.NS   2017-10-17  277.899994  269.500000  ...  236.723809  196.128571\n",
            "              2017-04-06  196.699997  191.350006  ...  185.633333  148.556746\n",
            "JINDALSTEL.NS 2019-09-17  111.300003  101.599998  ...  123.010318  156.998214\n",
            "TATASTEEL.NS  2017-03-17  484.704773  474.558105  ...  431.824855  366.334799\n",
            "JINDALSTEL.NS 2016-12-27   67.050003   64.900002  ...   73.386508   71.378175\n",
            "\n",
            "[3733 rows x 27 columns]\n",
            "                                High         Low  ...        MA63       MA252\n",
            "Ticker        Date                                ...                        \n",
            "HINDALCO.NS   2019-04-01  218.750000  208.550003  ...  203.750793  222.325992\n",
            "JSWSTEEL.NS   2015-04-23   99.300003   96.800003  ...   96.339683  125.180377\n",
            "HINDALCO.NS   2019-04-24  201.399994  197.199997  ...  203.634920  221.884920\n",
            "JSWSTEEL.NS   2017-08-10  229.449997  218.449997  ...  206.575397  185.925258\n",
            "HINDALCO.NS   2018-05-02  235.750000  226.199997  ...  234.261905  233.546031\n",
            "...                              ...         ...  ...         ...         ...\n",
            "JINDALSTEL.NS 2018-09-28  227.000000  182.600006  ...  210.642857  215.115476\n",
            "HINDALCO.NS   2016-03-10   85.550003   81.550003  ...   74.392857   97.975595\n",
            "JINDALSTEL.NS 2018-09-12  225.899994  210.550003  ...  210.806349  211.966468\n",
            "JSWSTEEL.NS   2018-07-23  307.850006  300.000000  ...  323.443650  282.991270\n",
            "JINDALSTEL.NS 2016-03-04   65.599998   61.849998  ...   72.862698   95.884326\n",
            "\n",
            "[934 rows x 27 columns]\n"
          ],
          "name": "stdout"
        }
      ]
    },
    {
      "cell_type": "code",
      "metadata": {
        "id": "WvVu7qVNRCpL",
        "colab": {
          "base_uri": "https://localhost:8080/"
        },
        "outputId": "2c7580b6-f0f9-4ebd-91e9-7520c7d2e8df"
      },
      "source": [
        "# Spot Check Algorithms\n",
        "data_Selected = []\n",
        "data_Selected.append(('KNN', KNeighborsClassifier()))\n",
        "data_Selected.append(('CART', DecisionTreeClassifier()))\n",
        "data_Selected.append(('SVM', SVC()))\n",
        "data_Selected.append(('RF', RandomForestClassifier()))\n",
        "data_Selected.append(('NB', GaussianNB()))\n",
        "# evaluate each model in turn\n",
        "results = []\n",
        "names = []\n",
        "score=['f1','accuracy','precison','recall']\n",
        "for name, model in data_Selected:\n",
        "    kfold = model_selection.KFold(n_splits=10, random_state=1)\n",
        "    cv_results =cross_val_score(model, X_train_std, Y_train, cv=kfold, scoring='accuracy')\n",
        "    results.append(cv_results)\n",
        "    names.append(name)\n",
        "    output = \"%s: %f (%f)\" % (name, cv_results.mean(), cv_results.std())\n",
        "    print(output)"
      ],
      "execution_count": 21,
      "outputs": [
        {
          "output_type": "stream",
          "text": [
            "/usr/local/lib/python3.7/dist-packages/sklearn/model_selection/_split.py:296: FutureWarning: Setting a random_state has no effect since shuffle is False. This will raise an error in 0.24. You should leave random_state to its default (None), or set shuffle=True.\n",
            "  FutureWarning\n"
          ],
          "name": "stderr"
        },
        {
          "output_type": "stream",
          "text": [
            "KNN: 0.958479 (0.007596)\n"
          ],
          "name": "stdout"
        },
        {
          "output_type": "stream",
          "text": [
            "/usr/local/lib/python3.7/dist-packages/sklearn/model_selection/_split.py:296: FutureWarning: Setting a random_state has no effect since shuffle is False. This will raise an error in 0.24. You should leave random_state to its default (None), or set shuffle=True.\n",
            "  FutureWarning\n"
          ],
          "name": "stderr"
        },
        {
          "output_type": "stream",
          "text": [
            "CART: 0.964899 (0.010904)\n"
          ],
          "name": "stdout"
        },
        {
          "output_type": "stream",
          "text": [
            "/usr/local/lib/python3.7/dist-packages/sklearn/model_selection/_split.py:296: FutureWarning: Setting a random_state has no effect since shuffle is False. This will raise an error in 0.24. You should leave random_state to its default (None), or set shuffle=True.\n",
            "  FutureWarning\n"
          ],
          "name": "stderr"
        },
        {
          "output_type": "stream",
          "text": [
            "SVM: 0.935972 (0.008537)\n"
          ],
          "name": "stdout"
        },
        {
          "output_type": "stream",
          "text": [
            "/usr/local/lib/python3.7/dist-packages/sklearn/model_selection/_split.py:296: FutureWarning: Setting a random_state has no effect since shuffle is False. This will raise an error in 0.24. You should leave random_state to its default (None), or set shuffle=True.\n",
            "  FutureWarning\n"
          ],
          "name": "stderr"
        },
        {
          "output_type": "stream",
          "text": [
            "RF: 0.983390 (0.004765)\n",
            "NB: 0.868732 (0.007291)\n"
          ],
          "name": "stdout"
        },
        {
          "output_type": "stream",
          "text": [
            "/usr/local/lib/python3.7/dist-packages/sklearn/model_selection/_split.py:296: FutureWarning: Setting a random_state has no effect since shuffle is False. This will raise an error in 0.24. You should leave random_state to its default (None), or set shuffle=True.\n",
            "  FutureWarning\n"
          ],
          "name": "stderr"
        }
      ]
    },
    {
      "cell_type": "code",
      "metadata": {
        "id": "4oEfSDgkRF1I",
        "colab": {
          "base_uri": "https://localhost:8080/",
          "height": 294
        },
        "outputId": "9d308af5-77b4-4ae6-caa0-d1d70976217d"
      },
      "source": [
        "fig = plt.figure()\n",
        "fig.suptitle('Algorithm Comparison')\n",
        "ax = fig.add_subplot(111)\n",
        "plt.boxplot(results)\n",
        "ax.set_xticklabels(names)\n",
        "plt.show()"
      ],
      "execution_count": 22,
      "outputs": [
        {
          "output_type": "display_data",
          "data": {
            "image/png": "[encoded data removed]",
            "text/plain": [
              "<Figure size 432x288 with 1 Axes>"
            ]
          },
          "metadata": {
            "tags": [],
            "needs_background": "light"
          }
        }
      ]
    },
    {
      "cell_type": "code",
      "metadata": {
        "id": "loHYmGZpRMa7"
      },
      "source": [
        "rf = RandomForestClassifier(n_estimators=500, min_samples_split=5,min_samples_leaf =2,max_features = 10,n_jobs=4,criterion='gini')\n",
        "predy=rf.fit(X_train_std, Y_train)"
      ],
      "execution_count": 23,
      "outputs": []
    },
    {
      "cell_type": "code",
      "metadata": {
        "id": "HnepzBMBRRXg"
      },
      "source": [
        "predr= rf.predict(X_test_std)"
      ],
      "execution_count": 24,
      "outputs": []
    },
    {
      "cell_type": "code",
      "metadata": {
        "id": "iHZd-ELuRUXc",
        "colab": {
          "base_uri": "https://localhost:8080/"
        },
        "outputId": "b43692be-9771-4ded-de03-527a2cf4011a"
      },
      "source": [
        "print(accuracy_score(Y_test, predr))\n",
        "print(confusion_matrix(Y_test, predr))\n",
        "print(classification_report(Y_test, predr))"
      ],
      "execution_count": 25,
      "outputs": [
        {
          "output_type": "stream",
          "text": [
            "0.9860813704496788\n",
            "[[399   2]\n",
            " [ 11 522]]\n",
            "              precision    recall  f1-score   support\n",
            "\n",
            "         0.0       0.97      1.00      0.98       401\n",
            "         1.0       1.00      0.98      0.99       533\n",
            "\n",
            "    accuracy                           0.99       934\n",
            "   macro avg       0.98      0.99      0.99       934\n",
            "weighted avg       0.99      0.99      0.99       934\n",
            "\n"
          ],
          "name": "stdout"
        }
      ]
    },
    {
      "cell_type": "code",
      "metadata": {
        "id": "DOxB4UScRWPW"
      },
      "source": [
        "import itertools\n",
        "from sklearn.metrics import roc_curve, auc, roc_auc_score, log_loss, accuracy_score, confusion_matrix,f1_score\n",
        "\n",
        "def pltcm(ax, y_test, y_pred, classes, title, th=0.7, cmap=plt.cm.Reds):\n",
        "    y_pred_labels = (y_pred>th).astype(int)\n",
        "    \n",
        "    cm = confusion_matrix(y_test, y_pred_labels)\n",
        "    \n",
        "    im = ax.imshow(cm, interpolation='nearest', cmap=cmap)\n",
        "    ax.set_title(title)\n",
        "\n",
        "    tickmarks = np.arange(len(classes))\n",
        "    ax.set_xticks(tickmarks)\n",
        "    ax.set_yticks(tickmarks)\n",
        "    ax.set_xticklabels(classes)\n",
        "    ax.set_yticklabels(classes)\n",
        "\n",
        "    thresh = cm.max() / 2.\n",
        "    for i, j in itertools.product(range(cm.shape[0]), range(cm.shape[1])):\n",
        "        ax.text(j, i, cm[i, j],\n",
        "                 horizontalalignment=\"center\",\n",
        "                 color=\"white\" if cm[i, j] > thresh else \"black\")\n",
        "    ax.set_ylabel('Actual')\n",
        "    ax.set_xlabel('Prediction')\n",
        "\n",
        "def pltauc(ax, y_train, y_pred, y_test, y_tpred, th=0.7):\n",
        "\n",
        "    y_predl = (y_pred>th).astype(int)\n",
        "    y_tpredl  = (y_tpred>th).astype(int)\n",
        "\n",
        "    fpr_tr, tpr_tr, _ = roc_curve(y_train,y_pred)\n",
        "    roc_auc_tr = auc(fpr_tr, tpr_tr)\n",
        "    acc_tr = accuracy_score(y_train, y_predl)\n",
        "\n",
        "    fpr_ts, tpr_ts, _ = roc_curve(y_test,y_tpred)\n",
        "    roc_auc_ts = auc(fpr_ts, tpr_ts)\n",
        "    acc_ts = accuracy_score(y_test, y_tpredl)\n",
        "\n",
        "    ax.plot(fpr_tr, tpr_tr)\n",
        "    ax.plot(fpr_ts, tpr_ts)\n",
        "\n",
        "    ax.plot([0, 1], [0, 1], 'k--')\n",
        "\n",
        "    ax.set_xlim([0.0, 1.0])\n",
        "    ax.set_ylim([0.0, 1.05])\n",
        "    ax.set_xlabel('False Positive Rate')\n",
        "    ax.set_ylabel('True Positive Rate')\n",
        "    ax.set_title('ROC curve')\n",
        "    \n",
        "    train_text = 'train acc = {:.3f}, auc = {:.2f}'.format(acc_tr, roc_auc_tr)\n",
        "    test_text = 'test acc = {:.3f}, auc = {:.2f}'.format(acc_ts, roc_auc_ts)\n",
        "    ax.legend([train_text, test_text])\n",
        "\n",
        "def result(es,threshold,X_train,X_test,y_train,y_test):\n",
        "    y_pred = es.predict(X_train)\n",
        "    y_tpred = es.predict(X_test)\n",
        "\n",
        "    fig,ax = plt.subplots(1,3)\n",
        "    fig.set_size_inches(15,5)\n",
        "    pltcm(ax[0],  y_train, y_pred, [0,1], 'Confusion matrix (TRAIN)', threshold)\n",
        "    pltcm(ax[1],  y_test, y_tpred,   [0,1], 'Confusion matrix (TEST)', threshold)\n",
        "    pltauc(ax[2], y_train, y_pred, y_test, y_tpred, threshold)\n",
        "    plt.tight_layout()\n",
        "    plt.show()\n",
        "    \n",
        "def btf1(es,X_test,y_test):\n",
        "    thresholds = np.linspace(0.3,0.6,100)\n",
        "    y_tpred = es.predict(X_test)\n",
        "    score_set = []\n",
        "    index_threshold = 0\n",
        "    sum_score = 0\n",
        "    for threshold in thresholds:\n",
        "        y_tpred1  = (y_tpred > threshold).astype(int)\n",
        "        score = f1_score(y_test, y_tpred1)\n",
        "        score_set.append(score)\n",
        "    for i in range(95):\n",
        "        temp = sum(score_set[i:i+5])\n",
        "        if temp > sum_score:\n",
        "            sum_score = temp\n",
        "            index_threshold = i+2 # the average threshold\n",
        "    return thresholds[index_threshold],sum_score/5\n",
        "\n",
        "def testf1(es,bestthreshold,X_test,y_test):\n",
        "    y_tpred = es.predict(X_test)\n",
        "    y_tpred1  = (y_tpred > bestthreshold).astype(int)\n",
        "    score = f1_score(y_test, y_tpred1)\n",
        "    return score"
      ],
      "execution_count": 26,
      "outputs": []
    },
    {
      "cell_type": "code",
      "metadata": {
        "id": "ZbwZjoQVRqHC",
        "colab": {
          "base_uri": "https://localhost:8080/",
          "height": 387
        },
        "outputId": "71412c42-2992-424c-961f-0ba058b85d93"
      },
      "source": [
        "bestthreshold,bestf1 = btf1(rf,X_train_std, Y_train)\n",
        "testf1 = testf1(rf,bestthreshold,X_test_std,Y_test)\n",
        "print('test f1:',testf1,'train f1:',bestf1)\n",
        "result(rf,bestthreshold,X_train_std,X_test_std, Y_train,Y_test)"
      ],
      "execution_count": 27,
      "outputs": [
        {
          "output_type": "stream",
          "text": [
            "test f1: 0.9877010406811731 train f1: 0.9981006647673315\n"
          ],
          "name": "stdout"
        },
        {
          "output_type": "display_data",
          "data": {
            "image/png": "[encoded data removed]",
            "text/plain": [
              "<Figure size 1080x360 with 3 Axes>"
            ]
          },
          "metadata": {
            "tags": [],
            "needs_background": "light"
          }
        }
      ]
    },
    {
      "cell_type": "code",
      "metadata": {
        "id": "rEOAJi26Rs47",
        "colab": {
          "base_uri": "https://localhost:8080/",
          "height": 756
        },
        "outputId": "2545c45b-46a7-488c-805a-edac81b50a38"
      },
      "source": [
        "#Create column for Strategy Returns by multiplying the daily returns by the position that was held at close\n",
        "#of business the previous day\n",
        "backtestdata = pd.DataFrame(index=X_test.index)\n",
        "backtestdata['signal_pred'] = predr\n",
        "backtestdata['signal_actual'] = Y_test\n",
        "backtestdata['Market Returns'] = X_test['Close'].pct_change()\n",
        "backtestdata['Actual Returns'] = backtestdata['Market Returns'] * backtestdata['signal_actual'].shift(1)\n",
        "backtestdata['Strategy Returns'] = backtestdata['Market Returns'] * backtestdata['signal_pred'].shift(1)\n",
        "backtestdata[['Strategy Returns','Actual Returns']].cumsum().hist()\n",
        "backtestdata[['Strategy Returns','Actual Returns']].cumsum().plot()\n",
        "backtestdata.head()"
      ],
      "execution_count": 32,
      "outputs": [
        {
          "output_type": "execute_result",
          "data": {
            "text/html": [
              "<div>\n",
              "<style scoped>\n",
              "    .dataframe tbody tr th:only-of-type {\n",
              "        vertical-align: middle;\n",
              "    }\n",
              "\n",
              "    .dataframe tbody tr th {\n",
              "        vertical-align: top;\n",
              "    }\n",
              "\n",
              "    .dataframe thead th {\n",
              "        text-align: right;\n",
              "    }\n",
              "</style>\n",
              "<table border=\"1\" class=\"dataframe\">\n",
              "  <thead>\n",
              "    <tr style=\"text-align: right;\">\n",
              "      <th></th>\n",
              "      <th></th>\n",
              "      <th>signal_pred</th>\n",
              "      <th>signal_actual</th>\n",
              "      <th>Market Returns</th>\n",
              "      <th>Actual Returns</th>\n",
              "      <th>Strategy Returns</th>\n",
              "    </tr>\n",
              "    <tr>\n",
              "      <th>Ticker</th>\n",
              "      <th>Date</th>\n",
              "      <th></th>\n",
              "      <th></th>\n",
              "      <th></th>\n",
              "      <th></th>\n",
              "      <th></th>\n",
              "    </tr>\n",
              "  </thead>\n",
              "  <tbody>\n",
              "    <tr>\n",
              "      <th>HINDALCO.NS</th>\n",
              "      <th>2019-04-01</th>\n",
              "      <td>0.0</td>\n",
              "      <td>0.0</td>\n",
              "      <td>NaN</td>\n",
              "      <td>NaN</td>\n",
              "      <td>NaN</td>\n",
              "    </tr>\n",
              "    <tr>\n",
              "      <th>JSWSTEEL.NS</th>\n",
              "      <th>2015-04-23</th>\n",
              "      <td>0.0</td>\n",
              "      <td>0.0</td>\n",
              "      <td>-0.543516</td>\n",
              "      <td>-0.000000</td>\n",
              "      <td>-0.000000</td>\n",
              "    </tr>\n",
              "    <tr>\n",
              "      <th>HINDALCO.NS</th>\n",
              "      <th>2019-04-24</th>\n",
              "      <td>0.0</td>\n",
              "      <td>0.0</td>\n",
              "      <td>1.036426</td>\n",
              "      <td>0.000000</td>\n",
              "      <td>0.000000</td>\n",
              "    </tr>\n",
              "    <tr>\n",
              "      <th>JSWSTEEL.NS</th>\n",
              "      <th>2017-08-10</th>\n",
              "      <td>1.0</td>\n",
              "      <td>1.0</td>\n",
              "      <td>0.109865</td>\n",
              "      <td>0.000000</td>\n",
              "      <td>0.000000</td>\n",
              "    </tr>\n",
              "    <tr>\n",
              "      <th>HINDALCO.NS</th>\n",
              "      <th>2018-05-02</th>\n",
              "      <td>0.0</td>\n",
              "      <td>0.0</td>\n",
              "      <td>0.023794</td>\n",
              "      <td>0.023794</td>\n",
              "      <td>0.023794</td>\n",
              "    </tr>\n",
              "  </tbody>\n",
              "</table>\n",
              "</div>"
            ],
            "text/plain": [
              "                        signal_pred  ...  Strategy Returns\n",
              "Ticker      Date                     ...                  \n",
              "HINDALCO.NS 2019-04-01          0.0  ...               NaN\n",
              "JSWSTEEL.NS 2015-04-23          0.0  ...         -0.000000\n",
              "HINDALCO.NS 2019-04-24          0.0  ...          0.000000\n",
              "JSWSTEEL.NS 2017-08-10          1.0  ...          0.000000\n",
              "HINDALCO.NS 2018-05-02          0.0  ...          0.023794\n",
              "\n",
              "[5 rows x 5 columns]"
            ]
          },
          "metadata": {
            "tags": []
          },
          "execution_count": 32
        },
        {
          "output_type": "display_data",
          "data": {
            "image/png": "[encoded data removed]",
            "text/plain": [
              "<Figure size 432x288 with 2 Axes>"
            ]
          },
          "metadata": {
            "tags": [],
            "needs_background": "light"
          }
        },
        {
          "output_type": "display_data",
          "data": {
            "image/png": "[encoded data removed]",
            "text/plain": [
              "<Figure size 432x288 with 1 Axes>"
            ]
          },
          "metadata": {
            "tags": [],
            "needs_background": "light"
          }
        }
      ]
    },
    {
      "cell_type": "code",
      "metadata": {
        "id": "5lz7r0PuR0Bg",
        "colab": {
          "base_uri": "https://localhost:8080/",
          "height": 373
        },
        "outputId": "8a15e9ef-b8f7-4032-d23a-fc15420fc0c3"
      },
      "source": [
        "ax = backtestdata[['Strategy Returns','Actual Returns']].cumsum().plot()\n",
        "plt.xticks(rotation=30)\n",
        "plt.show()"
      ],
      "execution_count": 35,
      "outputs": [
        {
          "output_type": "display_data",
          "data": {
            "image/png": "[encoded data removed]",
            "text/plain": [
              "<Figure size 432x288 with 1 Axes>"
            ]
          },
          "metadata": {
            "tags": [],
            "needs_background": "light"
          }
        }
      ]
    },
    {
      "cell_type": "code",
      "metadata": {
        "id": "MUK3luVOJLCq"
      },
      "source": [
        ""
      ],
      "execution_count": null,
      "outputs": []
    }
  ]
}